{
 "cells": [
  {
   "cell_type": "markdown",
   "metadata": {},
   "source": [
    "# Learning Goals:\n",
    "1. Whats differential privacy, how does it work, how can we use it off the shelf?\n",
    "2. How to deploy python web-apps in matter of hours-MVP (flask, html, css, javascript, web-servers etc...)"
   ]
  },
  {
   "cell_type": "code",
   "execution_count": null,
   "metadata": {},
   "outputs": [],
   "source": []
  },
  {
   "cell_type": "code",
   "execution_count": null,
   "metadata": {},
   "outputs": [],
   "source": []
  },
  {
   "cell_type": "markdown",
   "metadata": {},
   "source": [
    "# Differential privacy <-> quantify your privacy"
   ]
  },
  {
   "cell_type": "markdown",
   "metadata": {},
   "source": [
    "a) What is it?"
   ]
  },
  {
   "cell_type": "markdown",
   "metadata": {},
   "source": [
    "\"Differential privacy is a strong, mathematical definition of privacy in the context of\n",
    "statistical and machine learning analysis. \""
   ]
  },
  {
   "cell_type": "markdown",
   "metadata": {},
   "source": [
    "Differential privacy is not a single tool, but rather a criterion, which many tools for analyzing\n",
    "sensitive personal information have been devised to satisfy."
   ]
  },
  {
   "cell_type": "markdown",
   "metadata": {},
   "source": [
    "b) What does it achieve?"
   ]
  },
  {
   "cell_type": "markdown",
   "metadata": {},
   "source": [
    "It provides a mathematically provable\n",
    "guarantee of privacy protection against a wide range of privacy attacks, i.e., attempts to learn private\n",
    "information specific to individuals from a data release. Privacy attacks include re-identification,\n",
    "record linkage, and differencing attacks, but may also include other attacks currently unknown or\n",
    "unforeseen."
   ]
  },
  {
   "cell_type": "markdown",
   "metadata": {},
   "source": [
    "c) Why is it called differential privacy?"
   ]
  },
  {
   "cell_type": "markdown",
   "metadata": {},
   "source": [
    "Parameter epsilon (the difference between opting out of the computation using your personal data and not)\n",
    "This parameter determines how much noise is added to the computation (in order to perserve privacy). It can be thought of as a\n",
    "tuning knob for balancing privacy and accuracy. \n",
    "\n",
    "Epsilon of value Infinity is the standard model (no privacy preserved)\n",
    "Epsilon towards 0 perserves more privacy but the accuracy suffers."
   ]
  },
  {
   "cell_type": "markdown",
   "metadata": {},
   "source": [
    "![alt text](diff_privacy.png \"Title\")"
   ]
  },
  {
   "cell_type": "markdown",
   "metadata": {},
   "source": [
    "d) what is a real world example and implication of differential privacy and parameter epsilon? What can you guarantee with epsilon?"
   ]
  },
  {
   "cell_type": "markdown",
   "metadata": {},
   "source": [
    "Differential privacy necessarily cannot eliminate privacy risk, it can guarantee that\n",
    "the risk will be limited by quantitative bounds that depend on epsilon parameter. Lets see what this means on an example:\n",
    "    \n",
    "(Example is taken from https://privacytools.seas.harvard.edu/files/privacytools/files/pedagogical-document-dp_new.pdf)"
   ]
  },
  {
   "cell_type": "markdown",
   "metadata": {},
   "source": [
    "Gertrude, a 65-year-old woman, is considering whether to participate in a medical\n",
    "research study. While she can envision many potential personal and societal benefits resulting in part from her participation in the study, she is concerned that the personal information she discloses over the course of the study could lead to\n",
    "an increase in her life insurance premium in the future.\n",
    "For example, Gertrude is concerned that the tests she would undergo as part of the research study would reveal that she is predisposed to suffer a stroke and is significantly more likely to die in the coming year than the average person of\n",
    "her age and gender. If such information related to Gertrude’s increased risk of\n",
    "morbidity and mortality is discovered by her life insurance company, it will likely\n",
    "increase her premium substantially.\n",
    "\n",
    "Predicament is evident, but how can Gertrude hedge herself and still particepate in the study?\n",
    "\n",
    "After all if the research study concludes that there is not substential  death risk for this group (lets say that conclusion is only 2%) BUT they do get to the Gertrudes private data, and this data indicates that there is a significant death risk, than her premium could be increased.\n"
   ]
  },
  {
   "cell_type": "markdown",
   "metadata": {},
   "source": [
    "![alt text](gertrude.png \"Title\")"
   ]
  },
  {
   "cell_type": "code",
   "execution_count": null,
   "metadata": {},
   "outputs": [],
   "source": []
  },
  {
   "cell_type": "markdown",
   "metadata": {},
   "source": [
    "e) Notes about example:\n",
    "1. her risk might increase even if her insurance company is not aware of her participation\n",
    "2. Privacy risk accumulates with multiple analyses on an individual’s data--but its cummulative!"
   ]
  },
  {
   "cell_type": "markdown",
   "metadata": {},
   "source": [
    "e) Ok how does it actually work?"
   ]
  },
  {
   "cell_type": "markdown",
   "metadata": {},
   "source": [
    "Construction of differentially private analyses relies on the careful introduction of uncertainty in the form of random noise\n",
    "all while perserving privacy.\n",
    "\n",
    "Consult Appendix A in Harvard summary document. https://privacytools.seas.harvard.edu/files/privacytools/files/pedagogical-document-dp_new.pdf\n",
    "\n",
    "Another good introduction behind the scenes https://medium.com/secure-and-private-ai-writing-challenge/differential-privacy-e5c7b933ef9e\n",
    "\n",
    "Off the shelf algorithms and tools to build your own differentially privaty algortihms https://github.com/IBM/differential-privacy-library"
   ]
  },
  {
   "cell_type": "code",
   "execution_count": null,
   "metadata": {},
   "outputs": [],
   "source": []
  },
  {
   "cell_type": "code",
   "execution_count": null,
   "metadata": {},
   "outputs": [],
   "source": []
  },
  {
   "cell_type": "markdown",
   "metadata": {},
   "source": [
    "# Model anything with weather"
   ]
  },
  {
   "cell_type": "markdown",
   "metadata": {},
   "source": [
    "Steps:\n",
    "\n",
    "1. Make your own train set (very fast with naive-bayes).\n",
    "2. Take future information about weather (via API).\n",
    "3. Incorporate it in a webapp to make predictions about ANY topic you want (that can be predicted with weather)."
   ]
  },
  {
   "cell_type": "markdown",
   "metadata": {},
   "source": [
    "# Concrete: Will I be able to go on a road trip tomorrow or not?\n",
    "\n",
    "Note: make sure that the requirements_jupyter.txt is in the same folder as this notebook."
   ]
  },
  {
   "cell_type": "code",
   "execution_count": 1,
   "metadata": {
    "ExecuteTime": {
     "end_time": "2020-03-31T14:48:46.696777Z",
     "start_time": "2020-03-31T14:48:42.568983Z"
    },
    "scrolled": true
   },
   "outputs": [
    {
     "name": "stdout",
     "output_type": "stream",
     "text": [
      "Requirement already satisfied: pandas in c:\\users\\noah\\appdata\\roaming\\python\\python36\\site-packages (from -r requirements_jupyter.txt (line 1)) (0.25.2)\n",
      "Requirement already satisfied: numpy in c:\\users\\noah\\appdata\\roaming\\python\\python36\\site-packages (from -r requirements_jupyter.txt (line 2)) (1.16.1)\n",
      "Requirement already satisfied: matplotlib in c:\\users\\noah\\anaconda3\\lib\\site-packages (from -r requirements_jupyter.txt (line 3)) (3.0.3)\n",
      "Requirement already satisfied: IPython in c:\\users\\noah\\anaconda3\\lib\\site-packages (from -r requirements_jupyter.txt (line 4)) (7.5.0)\n",
      "Requirement already satisfied: sklearn in c:\\users\\noah\\anaconda3\\lib\\site-packages (from -r requirements_jupyter.txt (line 5)) (0.0)\n",
      "Requirement already satisfied: scipy in c:\\users\\noah\\anaconda3\\lib\\site-packages (from -r requirements_jupyter.txt (line 6)) (1.2.1)\n",
      "Requirement already satisfied: python-dateutil>=2.6.1 in c:\\users\\noah\\anaconda3\\lib\\site-packages (from pandas->-r requirements_jupyter.txt (line 1)) (2.7.2)\n",
      "Requirement already satisfied: pytz>=2017.2 in c:\\users\\noah\\anaconda3\\lib\\site-packages (from pandas->-r requirements_jupyter.txt (line 1)) (2018.4)\n",
      "Requirement already satisfied: cycler>=0.10 in c:\\users\\noah\\anaconda3\\lib\\site-packages (from matplotlib->-r requirements_jupyter.txt (line 3)) (0.10.0)\n",
      "Requirement already satisfied: kiwisolver>=1.0.1 in c:\\users\\noah\\anaconda3\\lib\\site-packages (from matplotlib->-r requirements_jupyter.txt (line 3)) (1.0.1)\n",
      "Requirement already satisfied: pyparsing!=2.0.4,!=2.1.2,!=2.1.6,>=2.0.1 in c:\\users\\noah\\anaconda3\\lib\\site-packages (from matplotlib->-r requirements_jupyter.txt (line 3)) (2.3.1)\n",
      "Requirement already satisfied: traitlets>=4.2 in c:\\users\\noah\\anaconda3\\lib\\site-packages (from IPython->-r requirements_jupyter.txt (line 4)) (4.3.2)\n",
      "Requirement already satisfied: colorama; sys_platform == \"win32\" in c:\\users\\noah\\anaconda3\\lib\\site-packages (from IPython->-r requirements_jupyter.txt (line 4)) (0.3.9)\n",
      "Requirement already satisfied: setuptools>=18.5 in c:\\users\\noah\\anaconda3\\lib\\site-packages (from IPython->-r requirements_jupyter.txt (line 4)) (40.8.0)\n",
      "Requirement already satisfied: pygments in c:\\users\\noah\\anaconda3\\lib\\site-packages (from IPython->-r requirements_jupyter.txt (line 4)) (2.3.1)\n",
      "Requirement already satisfied: prompt-toolkit<2.1.0,>=2.0.0 in c:\\users\\noah\\anaconda3\\lib\\site-packages (from IPython->-r requirements_jupyter.txt (line 4)) (2.0.9)\n",
      "Requirement already satisfied: jedi>=0.10 in c:\\users\\noah\\anaconda3\\lib\\site-packages (from IPython->-r requirements_jupyter.txt (line 4)) (0.13.3)\n",
      "Requirement already satisfied: pickleshare in c:\\users\\noah\\anaconda3\\lib\\site-packages (from IPython->-r requirements_jupyter.txt (line 4)) (0.7.5)\n",
      "Requirement already satisfied: decorator in c:\\users\\noah\\anaconda3\\lib\\site-packages (from IPython->-r requirements_jupyter.txt (line 4)) (4.4.0)\n",
      "Requirement already satisfied: backcall in c:\\users\\noah\\anaconda3\\lib\\site-packages (from IPython->-r requirements_jupyter.txt (line 4)) (0.1.0)\n",
      "Requirement already satisfied: scikit-learn in c:\\users\\noah\\anaconda3\\lib\\site-packages (from sklearn->-r requirements_jupyter.txt (line 5)) (0.22)\n",
      "Requirement already satisfied: six>=1.5 in c:\\users\\noah\\anaconda3\\lib\\site-packages (from python-dateutil>=2.6.1->pandas->-r requirements_jupyter.txt (line 1)) (1.11.0)\n",
      "Requirement already satisfied: ipython_genutils in c:\\users\\noah\\anaconda3\\lib\\site-packages (from traitlets>=4.2->IPython->-r requirements_jupyter.txt (line 4)) (0.2.0)\n",
      "Requirement already satisfied: wcwidth in c:\\users\\noah\\anaconda3\\lib\\site-packages (from prompt-toolkit<2.1.0,>=2.0.0->IPython->-r requirements_jupyter.txt (line 4)) (0.1.7)\n",
      "Requirement already satisfied: parso>=0.3.0 in c:\\users\\noah\\anaconda3\\lib\\site-packages (from jedi>=0.10->IPython->-r requirements_jupyter.txt (line 4)) (0.3.4)\n",
      "Requirement already satisfied: joblib>=0.11 in c:\\users\\noah\\anaconda3\\lib\\site-packages (from scikit-learn->sklearn->-r requirements_jupyter.txt (line 5)) (0.13.2)\n"
     ]
    }
   ],
   "source": [
    "!pip3 install -r requirements_jupyter.txt"
   ]
  },
  {
   "cell_type": "code",
   "execution_count": 2,
   "metadata": {
    "ExecuteTime": {
     "end_time": "2020-03-31T14:48:49.640611Z",
     "start_time": "2020-03-31T14:48:46.698808Z"
    }
   },
   "outputs": [
    {
     "name": "stdout",
     "output_type": "stream",
     "text": [
      "Requirement already satisfied: numpy==1.16.1 in c:\\users\\noah\\appdata\\roaming\\python\\python36\\site-packages (1.16.1)\n"
     ]
    }
   ],
   "source": [
    "!pip install numpy==1.16.1 --user"
   ]
  },
  {
   "cell_type": "code",
   "execution_count": 3,
   "metadata": {
    "ExecuteTime": {
     "end_time": "2020-03-31T14:48:53.400143Z",
     "start_time": "2020-03-31T14:48:49.648594Z"
    }
   },
   "outputs": [],
   "source": [
    "import pandas as pd\n",
    "import numpy as np\n",
    "from sklearn.model_selection import train_test_split\n",
    "from sklearn.naive_bayes import GaussianNB"
   ]
  },
  {
   "cell_type": "code",
   "execution_count": 4,
   "metadata": {
    "ExecuteTime": {
     "end_time": "2020-03-31T14:48:53.442174Z",
     "start_time": "2020-03-31T14:48:53.409144Z"
    }
   },
   "outputs": [],
   "source": [
    "column_names = ['Outlook', 'Temperature_Numeric', 'Temperature_Nominal', 'Humidity_Numeric', 'Humidity_Nominal', 'Windy', 'Road_Trip']\n",
    "\n",
    "weather_dataset = [['overcast',83,'hot',86,'high',False,True],\n",
    "['overcast',64,'cool',65,'normal',True,True],\n",
    "['overcast',72,'mild',90,'high',True,True],\n",
    "['overcast',81,'hot',75,'normal',False,True],\n",
    "['rainy',70,'mild',96,'high',False,True],\n",
    "['rainy',68,'cool',80,'normal',False,True],\n",
    "['rainy',65,'cool',70,'normal',True,False],\n",
    "['rainy',75,'mild',80,'normal',False,True],\n",
    "['rainy',71,'mild',91,'high',True,False],\n",
    "['sunny',85,'hot',85,'high',False,False],\n",
    "['sunny',80,'hot',90,'high',True,False],\n",
    "['sunny',72,'mild',95,'high',False,False],\n",
    "['sunny',69,'cool',70,'normal',False,True],\n",
    "['sunny',75,'mild',70,'normal',True,True]]\n",
    "\n",
    "#to Pandas DataFrame\n",
    "train_df = pd.DataFrame(weather_dataset, columns=column_names)\n",
    "train_df[['Windy','Road_Trip']] = train_df[['Windy','Road_Trip']].astype(int)\n",
    " "
   ]
  },
  {
   "cell_type": "markdown",
   "metadata": {},
   "source": [
    "## Explore Data"
   ]
  },
  {
   "cell_type": "code",
   "execution_count": 5,
   "metadata": {
    "ExecuteTime": {
     "end_time": "2020-03-31T14:48:53.493154Z",
     "start_time": "2020-03-31T14:48:53.450145Z"
    },
    "scrolled": true
   },
   "outputs": [
    {
     "data": {
      "text/html": [
       "<div>\n",
       "<style scoped>\n",
       "    .dataframe tbody tr th:only-of-type {\n",
       "        vertical-align: middle;\n",
       "    }\n",
       "\n",
       "    .dataframe tbody tr th {\n",
       "        vertical-align: top;\n",
       "    }\n",
       "\n",
       "    .dataframe thead th {\n",
       "        text-align: right;\n",
       "    }\n",
       "</style>\n",
       "<table border=\"1\" class=\"dataframe\">\n",
       "  <thead>\n",
       "    <tr style=\"text-align: right;\">\n",
       "      <th></th>\n",
       "      <th>Outlook</th>\n",
       "      <th>Temperature_Numeric</th>\n",
       "      <th>Temperature_Nominal</th>\n",
       "      <th>Humidity_Numeric</th>\n",
       "      <th>Humidity_Nominal</th>\n",
       "      <th>Windy</th>\n",
       "      <th>Road_Trip</th>\n",
       "    </tr>\n",
       "  </thead>\n",
       "  <tbody>\n",
       "    <tr>\n",
       "      <th>0</th>\n",
       "      <td>overcast</td>\n",
       "      <td>83</td>\n",
       "      <td>hot</td>\n",
       "      <td>86</td>\n",
       "      <td>high</td>\n",
       "      <td>0</td>\n",
       "      <td>1</td>\n",
       "    </tr>\n",
       "    <tr>\n",
       "      <th>1</th>\n",
       "      <td>overcast</td>\n",
       "      <td>64</td>\n",
       "      <td>cool</td>\n",
       "      <td>65</td>\n",
       "      <td>normal</td>\n",
       "      <td>1</td>\n",
       "      <td>1</td>\n",
       "    </tr>\n",
       "    <tr>\n",
       "      <th>2</th>\n",
       "      <td>overcast</td>\n",
       "      <td>72</td>\n",
       "      <td>mild</td>\n",
       "      <td>90</td>\n",
       "      <td>high</td>\n",
       "      <td>1</td>\n",
       "      <td>1</td>\n",
       "    </tr>\n",
       "    <tr>\n",
       "      <th>3</th>\n",
       "      <td>overcast</td>\n",
       "      <td>81</td>\n",
       "      <td>hot</td>\n",
       "      <td>75</td>\n",
       "      <td>normal</td>\n",
       "      <td>0</td>\n",
       "      <td>1</td>\n",
       "    </tr>\n",
       "    <tr>\n",
       "      <th>4</th>\n",
       "      <td>rainy</td>\n",
       "      <td>70</td>\n",
       "      <td>mild</td>\n",
       "      <td>96</td>\n",
       "      <td>high</td>\n",
       "      <td>0</td>\n",
       "      <td>1</td>\n",
       "    </tr>\n",
       "    <tr>\n",
       "      <th>5</th>\n",
       "      <td>rainy</td>\n",
       "      <td>68</td>\n",
       "      <td>cool</td>\n",
       "      <td>80</td>\n",
       "      <td>normal</td>\n",
       "      <td>0</td>\n",
       "      <td>1</td>\n",
       "    </tr>\n",
       "    <tr>\n",
       "      <th>6</th>\n",
       "      <td>rainy</td>\n",
       "      <td>65</td>\n",
       "      <td>cool</td>\n",
       "      <td>70</td>\n",
       "      <td>normal</td>\n",
       "      <td>1</td>\n",
       "      <td>0</td>\n",
       "    </tr>\n",
       "    <tr>\n",
       "      <th>7</th>\n",
       "      <td>rainy</td>\n",
       "      <td>75</td>\n",
       "      <td>mild</td>\n",
       "      <td>80</td>\n",
       "      <td>normal</td>\n",
       "      <td>0</td>\n",
       "      <td>1</td>\n",
       "    </tr>\n",
       "    <tr>\n",
       "      <th>8</th>\n",
       "      <td>rainy</td>\n",
       "      <td>71</td>\n",
       "      <td>mild</td>\n",
       "      <td>91</td>\n",
       "      <td>high</td>\n",
       "      <td>1</td>\n",
       "      <td>0</td>\n",
       "    </tr>\n",
       "    <tr>\n",
       "      <th>9</th>\n",
       "      <td>sunny</td>\n",
       "      <td>85</td>\n",
       "      <td>hot</td>\n",
       "      <td>85</td>\n",
       "      <td>high</td>\n",
       "      <td>0</td>\n",
       "      <td>0</td>\n",
       "    </tr>\n",
       "    <tr>\n",
       "      <th>10</th>\n",
       "      <td>sunny</td>\n",
       "      <td>80</td>\n",
       "      <td>hot</td>\n",
       "      <td>90</td>\n",
       "      <td>high</td>\n",
       "      <td>1</td>\n",
       "      <td>0</td>\n",
       "    </tr>\n",
       "    <tr>\n",
       "      <th>11</th>\n",
       "      <td>sunny</td>\n",
       "      <td>72</td>\n",
       "      <td>mild</td>\n",
       "      <td>95</td>\n",
       "      <td>high</td>\n",
       "      <td>0</td>\n",
       "      <td>0</td>\n",
       "    </tr>\n",
       "    <tr>\n",
       "      <th>12</th>\n",
       "      <td>sunny</td>\n",
       "      <td>69</td>\n",
       "      <td>cool</td>\n",
       "      <td>70</td>\n",
       "      <td>normal</td>\n",
       "      <td>0</td>\n",
       "      <td>1</td>\n",
       "    </tr>\n",
       "    <tr>\n",
       "      <th>13</th>\n",
       "      <td>sunny</td>\n",
       "      <td>75</td>\n",
       "      <td>mild</td>\n",
       "      <td>70</td>\n",
       "      <td>normal</td>\n",
       "      <td>1</td>\n",
       "      <td>1</td>\n",
       "    </tr>\n",
       "  </tbody>\n",
       "</table>\n",
       "</div>"
      ],
      "text/plain": [
       "     Outlook  Temperature_Numeric Temperature_Nominal  Humidity_Numeric  \\\n",
       "0   overcast                   83                 hot                86   \n",
       "1   overcast                   64                cool                65   \n",
       "2   overcast                   72                mild                90   \n",
       "3   overcast                   81                 hot                75   \n",
       "4      rainy                   70                mild                96   \n",
       "5      rainy                   68                cool                80   \n",
       "6      rainy                   65                cool                70   \n",
       "7      rainy                   75                mild                80   \n",
       "8      rainy                   71                mild                91   \n",
       "9      sunny                   85                 hot                85   \n",
       "10     sunny                   80                 hot                90   \n",
       "11     sunny                   72                mild                95   \n",
       "12     sunny                   69                cool                70   \n",
       "13     sunny                   75                mild                70   \n",
       "\n",
       "   Humidity_Nominal  Windy  Road_Trip  \n",
       "0              high      0          1  \n",
       "1            normal      1          1  \n",
       "2              high      1          1  \n",
       "3            normal      0          1  \n",
       "4              high      0          1  \n",
       "5            normal      0          1  \n",
       "6            normal      1          0  \n",
       "7            normal      0          1  \n",
       "8              high      1          0  \n",
       "9              high      0          0  \n",
       "10             high      1          0  \n",
       "11             high      0          0  \n",
       "12           normal      0          1  \n",
       "13           normal      1          1  "
      ]
     },
     "execution_count": 5,
     "metadata": {},
     "output_type": "execute_result"
    }
   ],
   "source": [
    "train_df"
   ]
  },
  {
   "cell_type": "code",
   "execution_count": 6,
   "metadata": {
    "ExecuteTime": {
     "end_time": "2020-03-31T14:48:53.527165Z",
     "start_time": "2020-03-31T14:48:53.498142Z"
    }
   },
   "outputs": [
    {
     "name": "stdout",
     "output_type": "stream",
     "text": [
      "<class 'pandas.core.frame.DataFrame'>\n",
      "RangeIndex: 14 entries, 0 to 13\n",
      "Data columns (total 7 columns):\n",
      "Outlook                14 non-null object\n",
      "Temperature_Numeric    14 non-null int64\n",
      "Temperature_Nominal    14 non-null object\n",
      "Humidity_Numeric       14 non-null int64\n",
      "Humidity_Nominal       14 non-null object\n",
      "Windy                  14 non-null int32\n",
      "Road_Trip              14 non-null int32\n",
      "dtypes: int32(2), int64(2), object(3)\n",
      "memory usage: 800.0+ bytes\n"
     ]
    }
   ],
   "source": [
    "train_df.info()"
   ]
  },
  {
   "cell_type": "code",
   "execution_count": 7,
   "metadata": {
    "ExecuteTime": {
     "end_time": "2020-03-31T14:48:53.580671Z",
     "start_time": "2020-03-31T14:48:53.537144Z"
    }
   },
   "outputs": [
    {
     "data": {
      "text/html": [
       "<div>\n",
       "<style scoped>\n",
       "    .dataframe tbody tr th:only-of-type {\n",
       "        vertical-align: middle;\n",
       "    }\n",
       "\n",
       "    .dataframe tbody tr th {\n",
       "        vertical-align: top;\n",
       "    }\n",
       "\n",
       "    .dataframe thead th {\n",
       "        text-align: right;\n",
       "    }\n",
       "</style>\n",
       "<table border=\"1\" class=\"dataframe\">\n",
       "  <thead>\n",
       "    <tr style=\"text-align: right;\">\n",
       "      <th></th>\n",
       "      <th>Temperature_Numeric</th>\n",
       "      <th>Humidity_Numeric</th>\n",
       "      <th>Windy</th>\n",
       "      <th>Road_Trip</th>\n",
       "    </tr>\n",
       "  </thead>\n",
       "  <tbody>\n",
       "    <tr>\n",
       "      <th>count</th>\n",
       "      <td>14.000000</td>\n",
       "      <td>14.000000</td>\n",
       "      <td>14.000000</td>\n",
       "      <td>14.000000</td>\n",
       "    </tr>\n",
       "    <tr>\n",
       "      <th>mean</th>\n",
       "      <td>73.571429</td>\n",
       "      <td>81.642857</td>\n",
       "      <td>0.428571</td>\n",
       "      <td>0.642857</td>\n",
       "    </tr>\n",
       "    <tr>\n",
       "      <th>std</th>\n",
       "      <td>6.571667</td>\n",
       "      <td>10.285218</td>\n",
       "      <td>0.513553</td>\n",
       "      <td>0.497245</td>\n",
       "    </tr>\n",
       "    <tr>\n",
       "      <th>min</th>\n",
       "      <td>64.000000</td>\n",
       "      <td>65.000000</td>\n",
       "      <td>0.000000</td>\n",
       "      <td>0.000000</td>\n",
       "    </tr>\n",
       "    <tr>\n",
       "      <th>25%</th>\n",
       "      <td>69.250000</td>\n",
       "      <td>71.250000</td>\n",
       "      <td>0.000000</td>\n",
       "      <td>0.000000</td>\n",
       "    </tr>\n",
       "    <tr>\n",
       "      <th>50%</th>\n",
       "      <td>72.000000</td>\n",
       "      <td>82.500000</td>\n",
       "      <td>0.000000</td>\n",
       "      <td>1.000000</td>\n",
       "    </tr>\n",
       "    <tr>\n",
       "      <th>75%</th>\n",
       "      <td>78.750000</td>\n",
       "      <td>90.000000</td>\n",
       "      <td>1.000000</td>\n",
       "      <td>1.000000</td>\n",
       "    </tr>\n",
       "    <tr>\n",
       "      <th>max</th>\n",
       "      <td>85.000000</td>\n",
       "      <td>96.000000</td>\n",
       "      <td>1.000000</td>\n",
       "      <td>1.000000</td>\n",
       "    </tr>\n",
       "  </tbody>\n",
       "</table>\n",
       "</div>"
      ],
      "text/plain": [
       "       Temperature_Numeric  Humidity_Numeric      Windy  Road_Trip\n",
       "count            14.000000         14.000000  14.000000  14.000000\n",
       "mean             73.571429         81.642857   0.428571   0.642857\n",
       "std               6.571667         10.285218   0.513553   0.497245\n",
       "min              64.000000         65.000000   0.000000   0.000000\n",
       "25%              69.250000         71.250000   0.000000   0.000000\n",
       "50%              72.000000         82.500000   0.000000   1.000000\n",
       "75%              78.750000         90.000000   1.000000   1.000000\n",
       "max              85.000000         96.000000   1.000000   1.000000"
      ]
     },
     "execution_count": 7,
     "metadata": {},
     "output_type": "execute_result"
    }
   ],
   "source": [
    "train_df.describe()"
   ]
  },
  {
   "cell_type": "markdown",
   "metadata": {},
   "source": [
    "## Binarize/Dummify Categorical Data"
   ]
  },
  {
   "cell_type": "code",
   "execution_count": 8,
   "metadata": {
    "ExecuteTime": {
     "end_time": "2020-03-31T14:48:53.602658Z",
     "start_time": "2020-03-31T14:48:53.584674Z"
    }
   },
   "outputs": [
    {
     "data": {
      "text/plain": [
       "Index(['Outlook', 'Temperature_Numeric', 'Temperature_Nominal',\n",
       "       'Humidity_Numeric', 'Humidity_Nominal', 'Windy', 'Road_Trip'],\n",
       "      dtype='object')"
      ]
     },
     "execution_count": 8,
     "metadata": {},
     "output_type": "execute_result"
    }
   ],
   "source": [
    "train_df.columns\n"
   ]
  },
  {
   "cell_type": "code",
   "execution_count": 9,
   "metadata": {
    "ExecuteTime": {
     "end_time": "2020-03-31T14:48:53.648657Z",
     "start_time": "2020-03-31T14:48:53.606662Z"
    }
   },
   "outputs": [
    {
     "data": {
      "text/html": [
       "<div>\n",
       "<style scoped>\n",
       "    .dataframe tbody tr th:only-of-type {\n",
       "        vertical-align: middle;\n",
       "    }\n",
       "\n",
       "    .dataframe tbody tr th {\n",
       "        vertical-align: top;\n",
       "    }\n",
       "\n",
       "    .dataframe thead th {\n",
       "        text-align: right;\n",
       "    }\n",
       "</style>\n",
       "<table border=\"1\" class=\"dataframe\">\n",
       "  <thead>\n",
       "    <tr style=\"text-align: right;\">\n",
       "      <th></th>\n",
       "      <th>Temperature_Numeric</th>\n",
       "      <th>Humidity_Numeric</th>\n",
       "      <th>Windy</th>\n",
       "      <th>Road_Trip</th>\n",
       "      <th>Outlook_overcast</th>\n",
       "      <th>Outlook_rainy</th>\n",
       "      <th>Outlook_sunny</th>\n",
       "      <th>Temperature_Nominal_cool</th>\n",
       "      <th>Temperature_Nominal_hot</th>\n",
       "      <th>Temperature_Nominal_mild</th>\n",
       "      <th>Humidity_Nominal_high</th>\n",
       "      <th>Humidity_Nominal_normal</th>\n",
       "    </tr>\n",
       "  </thead>\n",
       "  <tbody>\n",
       "    <tr>\n",
       "      <th>0</th>\n",
       "      <td>83</td>\n",
       "      <td>86</td>\n",
       "      <td>0</td>\n",
       "      <td>1</td>\n",
       "      <td>1</td>\n",
       "      <td>0</td>\n",
       "      <td>0</td>\n",
       "      <td>0</td>\n",
       "      <td>1</td>\n",
       "      <td>0</td>\n",
       "      <td>1</td>\n",
       "      <td>0</td>\n",
       "    </tr>\n",
       "    <tr>\n",
       "      <th>1</th>\n",
       "      <td>64</td>\n",
       "      <td>65</td>\n",
       "      <td>1</td>\n",
       "      <td>1</td>\n",
       "      <td>1</td>\n",
       "      <td>0</td>\n",
       "      <td>0</td>\n",
       "      <td>1</td>\n",
       "      <td>0</td>\n",
       "      <td>0</td>\n",
       "      <td>0</td>\n",
       "      <td>1</td>\n",
       "    </tr>\n",
       "    <tr>\n",
       "      <th>2</th>\n",
       "      <td>72</td>\n",
       "      <td>90</td>\n",
       "      <td>1</td>\n",
       "      <td>1</td>\n",
       "      <td>1</td>\n",
       "      <td>0</td>\n",
       "      <td>0</td>\n",
       "      <td>0</td>\n",
       "      <td>0</td>\n",
       "      <td>1</td>\n",
       "      <td>1</td>\n",
       "      <td>0</td>\n",
       "    </tr>\n",
       "    <tr>\n",
       "      <th>3</th>\n",
       "      <td>81</td>\n",
       "      <td>75</td>\n",
       "      <td>0</td>\n",
       "      <td>1</td>\n",
       "      <td>1</td>\n",
       "      <td>0</td>\n",
       "      <td>0</td>\n",
       "      <td>0</td>\n",
       "      <td>1</td>\n",
       "      <td>0</td>\n",
       "      <td>0</td>\n",
       "      <td>1</td>\n",
       "    </tr>\n",
       "    <tr>\n",
       "      <th>4</th>\n",
       "      <td>70</td>\n",
       "      <td>96</td>\n",
       "      <td>0</td>\n",
       "      <td>1</td>\n",
       "      <td>0</td>\n",
       "      <td>1</td>\n",
       "      <td>0</td>\n",
       "      <td>0</td>\n",
       "      <td>0</td>\n",
       "      <td>1</td>\n",
       "      <td>1</td>\n",
       "      <td>0</td>\n",
       "    </tr>\n",
       "  </tbody>\n",
       "</table>\n",
       "</div>"
      ],
      "text/plain": [
       "   Temperature_Numeric  Humidity_Numeric  Windy  Road_Trip  Outlook_overcast  \\\n",
       "0                   83                86      0          1                 1   \n",
       "1                   64                65      1          1                 1   \n",
       "2                   72                90      1          1                 1   \n",
       "3                   81                75      0          1                 1   \n",
       "4                   70                96      0          1                 0   \n",
       "\n",
       "   Outlook_rainy  Outlook_sunny  Temperature_Nominal_cool  \\\n",
       "0              0              0                         0   \n",
       "1              0              0                         1   \n",
       "2              0              0                         0   \n",
       "3              0              0                         0   \n",
       "4              1              0                         0   \n",
       "\n",
       "   Temperature_Nominal_hot  Temperature_Nominal_mild  Humidity_Nominal_high  \\\n",
       "0                        1                         0                      1   \n",
       "1                        0                         0                      0   \n",
       "2                        0                         1                      1   \n",
       "3                        1                         0                      0   \n",
       "4                        0                         1                      1   \n",
       "\n",
       "   Humidity_Nominal_normal  \n",
       "0                        0  \n",
       "1                        1  \n",
       "2                        0  \n",
       "3                        1  \n",
       "4                        0  "
      ]
     },
     "execution_count": 9,
     "metadata": {},
     "output_type": "execute_result"
    }
   ],
   "source": [
    "def prepare_data_for_model(raw_dataframe, target_columns, drop_first = False, make_na_col = False):\n",
    "    # dummy all categorical fields \n",
    "    dataframe_dummy = pd.get_dummies(raw_dataframe, columns=target_columns, \n",
    "                                     drop_first=drop_first, \n",
    "                                     dummy_na=make_na_col)\n",
    "    return (dataframe_dummy)\n",
    "\n",
    "# create dummy features \n",
    "train_df_ready = prepare_data_for_model(train_df, target_columns=['Outlook', 'Temperature_Nominal', 'Humidity_Nominal'])\n",
    "train_df_ready = train_df_ready.dropna() \n",
    "train_df_ready.head()"
   ]
  },
  {
   "cell_type": "markdown",
   "metadata": {},
   "source": [
    "# Modeling With Naive Bayes Classifiction"
   ]
  },
  {
   "cell_type": "code",
   "execution_count": 10,
   "metadata": {
    "ExecuteTime": {
     "end_time": "2020-03-31T14:48:53.685661Z",
     "start_time": "2020-03-31T14:48:53.650660Z"
    }
   },
   "outputs": [
    {
     "name": "stdout",
     "output_type": "stream",
     "text": [
      "    Temperature_Numeric  Humidity_Numeric  Windy  Outlook_overcast  \\\n",
      "1                    64                65      1                 1   \n",
      "13                   75                70      1                 0   \n",
      "4                    70                96      0                 0   \n",
      "\n",
      "    Outlook_rainy  Outlook_sunny  Temperature_Nominal_cool  \\\n",
      "1               0              0                         1   \n",
      "13              0              1                         0   \n",
      "4               1              0                         0   \n",
      "\n",
      "    Temperature_Nominal_hot  Temperature_Nominal_mild  Humidity_Nominal_high  \\\n",
      "1                         0                         0                      0   \n",
      "13                        0                         1                      0   \n",
      "4                         0                         1                      1   \n",
      "\n",
      "    Humidity_Nominal_normal  \n",
      "1                         1  \n",
      "13                        1  \n",
      "4                         0  \n",
      "Accuracy: 0.714286\n"
     ]
    }
   ],
   "source": [
    "features = [feat for feat in list(train_df_ready) if feat != 'Road_Trip']\n",
    "\n",
    "naive_bayes = GaussianNB()\n",
    "naive_bayes.fit(train_df_ready[features], np.ravel(train_df_ready[['Road_Trip']]))\n",
    "\n",
    "# split data into train and test portions and model\n",
    "X_train, X_test, y_train, y_test = train_test_split(train_df_ready[features], \n",
    "                                                 train_df_ready[['Road_Trip']], \n",
    "                                                 test_size=0.5, \n",
    "                                                 random_state=42)\n",
    "print(X_train.head(3))\n",
    "print ('Accuracy: %f' % naive_bayes.score(X_test,y_test))"
   ]
  },
  {
   "cell_type": "markdown",
   "metadata": {},
   "source": [
    "## Differentially private naive bayes"
   ]
  },
  {
   "cell_type": "code",
   "execution_count": 11,
   "metadata": {
    "ExecuteTime": {
     "end_time": "2020-03-31T14:48:54.393182Z",
     "start_time": "2020-03-31T14:48:53.689665Z"
    }
   },
   "outputs": [],
   "source": [
    "import diffprivlib.models as models"
   ]
  },
  {
   "cell_type": "code",
   "execution_count": 12,
   "metadata": {
    "ExecuteTime": {
     "end_time": "2020-03-31T14:48:54.526997Z",
     "start_time": "2020-03-31T14:48:54.399197Z"
    }
   },
   "outputs": [
    {
     "name": "stderr",
     "output_type": "stream",
     "text": [
      "C:\\Users\\Noah\\Anaconda3\\lib\\site-packages\\sklearn\\naive_bayes.py:207: DataConversionWarning: A column-vector y was passed when a 1d array was expected. Please change the shape of y to (n_samples, ), for example using ravel().\n",
      "  y = column_or_1d(y, warn=True)\n",
      "C:\\Users\\Noah\\Anaconda3\\lib\\site-packages\\diffprivlib\\models\\naive_bayes.py:93: PrivacyLeakWarning: Bounds have not been specified and will be calculated on the data provided. This will result in additional privacy leakage. To ensure differential privacy and no additional privacy leakage, specify bounds for each dimension.\n",
      "  \"privacy leakage, specify bounds for each dimension.\", PrivacyLeakWarning)\n"
     ]
    },
    {
     "data": {
      "text/plain": [
       "GaussianNB(bounds=[(64, 81), (65, 96), (0, 1), (0, 1), (0, 1), (0, 1), (0, 1),\n",
       "                   (0, 1), (0, 1), (0, 1), (0, 1)],\n",
       "           epsilon=1, priors=None, var_smoothing=1e-09)"
      ]
     },
     "execution_count": 12,
     "metadata": {},
     "output_type": "execute_result"
    }
   ],
   "source": [
    "clf = models.GaussianNB()\n",
    "clf.fit(X_train, y_train)"
   ]
  },
  {
   "cell_type": "code",
   "execution_count": 13,
   "metadata": {
    "ExecuteTime": {
     "end_time": "2020-03-31T14:48:57.119591Z",
     "start_time": "2020-03-31T14:48:54.529997Z"
    }
   },
   "outputs": [
    {
     "name": "stderr",
     "output_type": "stream",
     "text": [
      "C:\\Users\\Noah\\Anaconda3\\lib\\site-packages\\sklearn\\naive_bayes.py:207: DataConversionWarning: A column-vector y was passed when a 1d array was expected. Please change the shape of y to (n_samples, ), for example using ravel().\n",
      "  y = column_or_1d(y, warn=True)\n",
      "C:\\Users\\Noah\\Anaconda3\\lib\\site-packages\\diffprivlib\\models\\naive_bayes.py:93: PrivacyLeakWarning: Bounds have not been specified and will be calculated on the data provided. This will result in additional privacy leakage. To ensure differential privacy and no additional privacy leakage, specify bounds for each dimension.\n",
      "  \"privacy leakage, specify bounds for each dimension.\", PrivacyLeakWarning)\n",
      "C:\\Users\\Noah\\Anaconda3\\lib\\site-packages\\sklearn\\naive_bayes.py:207: DataConversionWarning: A column-vector y was passed when a 1d array was expected. Please change the shape of y to (n_samples, ), for example using ravel().\n",
      "  y = column_or_1d(y, warn=True)\n",
      "C:\\Users\\Noah\\Anaconda3\\lib\\site-packages\\diffprivlib\\models\\naive_bayes.py:93: PrivacyLeakWarning: Bounds have not been specified and will be calculated on the data provided. This will result in additional privacy leakage. To ensure differential privacy and no additional privacy leakage, specify bounds for each dimension.\n",
      "  \"privacy leakage, specify bounds for each dimension.\", PrivacyLeakWarning)\n",
      "C:\\Users\\Noah\\Anaconda3\\lib\\site-packages\\sklearn\\naive_bayes.py:207: DataConversionWarning: A column-vector y was passed when a 1d array was expected. Please change the shape of y to (n_samples, ), for example using ravel().\n",
      "  y = column_or_1d(y, warn=True)\n",
      "C:\\Users\\Noah\\Anaconda3\\lib\\site-packages\\diffprivlib\\models\\naive_bayes.py:93: PrivacyLeakWarning: Bounds have not been specified and will be calculated on the data provided. This will result in additional privacy leakage. To ensure differential privacy and no additional privacy leakage, specify bounds for each dimension.\n",
      "  \"privacy leakage, specify bounds for each dimension.\", PrivacyLeakWarning)\n",
      "C:\\Users\\Noah\\Anaconda3\\lib\\site-packages\\sklearn\\naive_bayes.py:207: DataConversionWarning: A column-vector y was passed when a 1d array was expected. Please change the shape of y to (n_samples, ), for example using ravel().\n",
      "  y = column_or_1d(y, warn=True)\n",
      "C:\\Users\\Noah\\Anaconda3\\lib\\site-packages\\diffprivlib\\models\\naive_bayes.py:93: PrivacyLeakWarning: Bounds have not been specified and will be calculated on the data provided. This will result in additional privacy leakage. To ensure differential privacy and no additional privacy leakage, specify bounds for each dimension.\n",
      "  \"privacy leakage, specify bounds for each dimension.\", PrivacyLeakWarning)\n",
      "C:\\Users\\Noah\\Anaconda3\\lib\\site-packages\\sklearn\\naive_bayes.py:207: DataConversionWarning: A column-vector y was passed when a 1d array was expected. Please change the shape of y to (n_samples, ), for example using ravel().\n",
      "  y = column_or_1d(y, warn=True)\n",
      "C:\\Users\\Noah\\Anaconda3\\lib\\site-packages\\diffprivlib\\models\\naive_bayes.py:93: PrivacyLeakWarning: Bounds have not been specified and will be calculated on the data provided. This will result in additional privacy leakage. To ensure differential privacy and no additional privacy leakage, specify bounds for each dimension.\n",
      "  \"privacy leakage, specify bounds for each dimension.\", PrivacyLeakWarning)\n",
      "C:\\Users\\Noah\\Anaconda3\\lib\\site-packages\\sklearn\\naive_bayes.py:207: DataConversionWarning: A column-vector y was passed when a 1d array was expected. Please change the shape of y to (n_samples, ), for example using ravel().\n",
      "  y = column_or_1d(y, warn=True)\n",
      "C:\\Users\\Noah\\Anaconda3\\lib\\site-packages\\diffprivlib\\models\\naive_bayes.py:93: PrivacyLeakWarning: Bounds have not been specified and will be calculated on the data provided. This will result in additional privacy leakage. To ensure differential privacy and no additional privacy leakage, specify bounds for each dimension.\n",
      "  \"privacy leakage, specify bounds for each dimension.\", PrivacyLeakWarning)\n",
      "C:\\Users\\Noah\\Anaconda3\\lib\\site-packages\\sklearn\\naive_bayes.py:207: DataConversionWarning: A column-vector y was passed when a 1d array was expected. Please change the shape of y to (n_samples, ), for example using ravel().\n",
      "  y = column_or_1d(y, warn=True)\n",
      "C:\\Users\\Noah\\Anaconda3\\lib\\site-packages\\diffprivlib\\models\\naive_bayes.py:93: PrivacyLeakWarning: Bounds have not been specified and will be calculated on the data provided. This will result in additional privacy leakage. To ensure differential privacy and no additional privacy leakage, specify bounds for each dimension.\n",
      "  \"privacy leakage, specify bounds for each dimension.\", PrivacyLeakWarning)\n",
      "C:\\Users\\Noah\\Anaconda3\\lib\\site-packages\\sklearn\\naive_bayes.py:207: DataConversionWarning: A column-vector y was passed when a 1d array was expected. Please change the shape of y to (n_samples, ), for example using ravel().\n",
      "  y = column_or_1d(y, warn=True)\n",
      "C:\\Users\\Noah\\Anaconda3\\lib\\site-packages\\diffprivlib\\models\\naive_bayes.py:93: PrivacyLeakWarning: Bounds have not been specified and will be calculated on the data provided. This will result in additional privacy leakage. To ensure differential privacy and no additional privacy leakage, specify bounds for each dimension.\n",
      "  \"privacy leakage, specify bounds for each dimension.\", PrivacyLeakWarning)\n",
      "C:\\Users\\Noah\\Anaconda3\\lib\\site-packages\\sklearn\\naive_bayes.py:207: DataConversionWarning: A column-vector y was passed when a 1d array was expected. Please change the shape of y to (n_samples, ), for example using ravel().\n",
      "  y = column_or_1d(y, warn=True)\n",
      "C:\\Users\\Noah\\Anaconda3\\lib\\site-packages\\diffprivlib\\models\\naive_bayes.py:93: PrivacyLeakWarning: Bounds have not been specified and will be calculated on the data provided. This will result in additional privacy leakage. To ensure differential privacy and no additional privacy leakage, specify bounds for each dimension.\n",
      "  \"privacy leakage, specify bounds for each dimension.\", PrivacyLeakWarning)\n",
      "C:\\Users\\Noah\\Anaconda3\\lib\\site-packages\\sklearn\\naive_bayes.py:207: DataConversionWarning: A column-vector y was passed when a 1d array was expected. Please change the shape of y to (n_samples, ), for example using ravel().\n",
      "  y = column_or_1d(y, warn=True)\n",
      "C:\\Users\\Noah\\Anaconda3\\lib\\site-packages\\diffprivlib\\models\\naive_bayes.py:93: PrivacyLeakWarning: Bounds have not been specified and will be calculated on the data provided. This will result in additional privacy leakage. To ensure differential privacy and no additional privacy leakage, specify bounds for each dimension.\n",
      "  \"privacy leakage, specify bounds for each dimension.\", PrivacyLeakWarning)\n",
      "C:\\Users\\Noah\\Anaconda3\\lib\\site-packages\\sklearn\\naive_bayes.py:207: DataConversionWarning: A column-vector y was passed when a 1d array was expected. Please change the shape of y to (n_samples, ), for example using ravel().\n",
      "  y = column_or_1d(y, warn=True)\n",
      "C:\\Users\\Noah\\Anaconda3\\lib\\site-packages\\diffprivlib\\models\\naive_bayes.py:93: PrivacyLeakWarning: Bounds have not been specified and will be calculated on the data provided. This will result in additional privacy leakage. To ensure differential privacy and no additional privacy leakage, specify bounds for each dimension.\n",
      "  \"privacy leakage, specify bounds for each dimension.\", PrivacyLeakWarning)\n",
      "C:\\Users\\Noah\\Anaconda3\\lib\\site-packages\\sklearn\\naive_bayes.py:207: DataConversionWarning: A column-vector y was passed when a 1d array was expected. Please change the shape of y to (n_samples, ), for example using ravel().\n",
      "  y = column_or_1d(y, warn=True)\n",
      "C:\\Users\\Noah\\Anaconda3\\lib\\site-packages\\diffprivlib\\models\\naive_bayes.py:93: PrivacyLeakWarning: Bounds have not been specified and will be calculated on the data provided. This will result in additional privacy leakage. To ensure differential privacy and no additional privacy leakage, specify bounds for each dimension.\n",
      "  \"privacy leakage, specify bounds for each dimension.\", PrivacyLeakWarning)\n",
      "C:\\Users\\Noah\\Anaconda3\\lib\\site-packages\\sklearn\\naive_bayes.py:207: DataConversionWarning: A column-vector y was passed when a 1d array was expected. Please change the shape of y to (n_samples, ), for example using ravel().\n",
      "  y = column_or_1d(y, warn=True)\n",
      "C:\\Users\\Noah\\Anaconda3\\lib\\site-packages\\diffprivlib\\models\\naive_bayes.py:93: PrivacyLeakWarning: Bounds have not been specified and will be calculated on the data provided. This will result in additional privacy leakage. To ensure differential privacy and no additional privacy leakage, specify bounds for each dimension.\n",
      "  \"privacy leakage, specify bounds for each dimension.\", PrivacyLeakWarning)\n",
      "C:\\Users\\Noah\\Anaconda3\\lib\\site-packages\\sklearn\\naive_bayes.py:207: DataConversionWarning: A column-vector y was passed when a 1d array was expected. Please change the shape of y to (n_samples, ), for example using ravel().\n",
      "  y = column_or_1d(y, warn=True)\n",
      "C:\\Users\\Noah\\Anaconda3\\lib\\site-packages\\diffprivlib\\models\\naive_bayes.py:93: PrivacyLeakWarning: Bounds have not been specified and will be calculated on the data provided. This will result in additional privacy leakage. To ensure differential privacy and no additional privacy leakage, specify bounds for each dimension.\n",
      "  \"privacy leakage, specify bounds for each dimension.\", PrivacyLeakWarning)\n",
      "C:\\Users\\Noah\\Anaconda3\\lib\\site-packages\\sklearn\\naive_bayes.py:207: DataConversionWarning: A column-vector y was passed when a 1d array was expected. Please change the shape of y to (n_samples, ), for example using ravel().\n",
      "  y = column_or_1d(y, warn=True)\n",
      "C:\\Users\\Noah\\Anaconda3\\lib\\site-packages\\diffprivlib\\models\\naive_bayes.py:93: PrivacyLeakWarning: Bounds have not been specified and will be calculated on the data provided. This will result in additional privacy leakage. To ensure differential privacy and no additional privacy leakage, specify bounds for each dimension.\n",
      "  \"privacy leakage, specify bounds for each dimension.\", PrivacyLeakWarning)\n",
      "C:\\Users\\Noah\\Anaconda3\\lib\\site-packages\\sklearn\\naive_bayes.py:207: DataConversionWarning: A column-vector y was passed when a 1d array was expected. Please change the shape of y to (n_samples, ), for example using ravel().\n",
      "  y = column_or_1d(y, warn=True)\n",
      "C:\\Users\\Noah\\Anaconda3\\lib\\site-packages\\diffprivlib\\models\\naive_bayes.py:93: PrivacyLeakWarning: Bounds have not been specified and will be calculated on the data provided. This will result in additional privacy leakage. To ensure differential privacy and no additional privacy leakage, specify bounds for each dimension.\n",
      "  \"privacy leakage, specify bounds for each dimension.\", PrivacyLeakWarning)\n",
      "C:\\Users\\Noah\\Anaconda3\\lib\\site-packages\\sklearn\\naive_bayes.py:207: DataConversionWarning: A column-vector y was passed when a 1d array was expected. Please change the shape of y to (n_samples, ), for example using ravel().\n",
      "  y = column_or_1d(y, warn=True)\n",
      "C:\\Users\\Noah\\Anaconda3\\lib\\site-packages\\diffprivlib\\models\\naive_bayes.py:93: PrivacyLeakWarning: Bounds have not been specified and will be calculated on the data provided. This will result in additional privacy leakage. To ensure differential privacy and no additional privacy leakage, specify bounds for each dimension.\n",
      "  \"privacy leakage, specify bounds for each dimension.\", PrivacyLeakWarning)\n",
      "C:\\Users\\Noah\\Anaconda3\\lib\\site-packages\\sklearn\\naive_bayes.py:207: DataConversionWarning: A column-vector y was passed when a 1d array was expected. Please change the shape of y to (n_samples, ), for example using ravel().\n",
      "  y = column_or_1d(y, warn=True)\n",
      "C:\\Users\\Noah\\Anaconda3\\lib\\site-packages\\diffprivlib\\models\\naive_bayes.py:93: PrivacyLeakWarning: Bounds have not been specified and will be calculated on the data provided. This will result in additional privacy leakage. To ensure differential privacy and no additional privacy leakage, specify bounds for each dimension.\n",
      "  \"privacy leakage, specify bounds for each dimension.\", PrivacyLeakWarning)\n",
      "C:\\Users\\Noah\\Anaconda3\\lib\\site-packages\\sklearn\\naive_bayes.py:207: DataConversionWarning: A column-vector y was passed when a 1d array was expected. Please change the shape of y to (n_samples, ), for example using ravel().\n",
      "  y = column_or_1d(y, warn=True)\n",
      "C:\\Users\\Noah\\Anaconda3\\lib\\site-packages\\diffprivlib\\models\\naive_bayes.py:93: PrivacyLeakWarning: Bounds have not been specified and will be calculated on the data provided. This will result in additional privacy leakage. To ensure differential privacy and no additional privacy leakage, specify bounds for each dimension.\n",
      "  \"privacy leakage, specify bounds for each dimension.\", PrivacyLeakWarning)\n",
      "C:\\Users\\Noah\\Anaconda3\\lib\\site-packages\\sklearn\\naive_bayes.py:207: DataConversionWarning: A column-vector y was passed when a 1d array was expected. Please change the shape of y to (n_samples, ), for example using ravel().\n",
      "  y = column_or_1d(y, warn=True)\n",
      "C:\\Users\\Noah\\Anaconda3\\lib\\site-packages\\diffprivlib\\models\\naive_bayes.py:93: PrivacyLeakWarning: Bounds have not been specified and will be calculated on the data provided. This will result in additional privacy leakage. To ensure differential privacy and no additional privacy leakage, specify bounds for each dimension.\n",
      "  \"privacy leakage, specify bounds for each dimension.\", PrivacyLeakWarning)\n",
      "C:\\Users\\Noah\\Anaconda3\\lib\\site-packages\\sklearn\\naive_bayes.py:207: DataConversionWarning: A column-vector y was passed when a 1d array was expected. Please change the shape of y to (n_samples, ), for example using ravel().\n",
      "  y = column_or_1d(y, warn=True)\n",
      "C:\\Users\\Noah\\Anaconda3\\lib\\site-packages\\diffprivlib\\models\\naive_bayes.py:93: PrivacyLeakWarning: Bounds have not been specified and will be calculated on the data provided. This will result in additional privacy leakage. To ensure differential privacy and no additional privacy leakage, specify bounds for each dimension.\n",
      "  \"privacy leakage, specify bounds for each dimension.\", PrivacyLeakWarning)\n",
      "C:\\Users\\Noah\\Anaconda3\\lib\\site-packages\\sklearn\\naive_bayes.py:207: DataConversionWarning: A column-vector y was passed when a 1d array was expected. Please change the shape of y to (n_samples, ), for example using ravel().\n",
      "  y = column_or_1d(y, warn=True)\n",
      "C:\\Users\\Noah\\Anaconda3\\lib\\site-packages\\diffprivlib\\models\\naive_bayes.py:93: PrivacyLeakWarning: Bounds have not been specified and will be calculated on the data provided. This will result in additional privacy leakage. To ensure differential privacy and no additional privacy leakage, specify bounds for each dimension.\n",
      "  \"privacy leakage, specify bounds for each dimension.\", PrivacyLeakWarning)\n",
      "C:\\Users\\Noah\\Anaconda3\\lib\\site-packages\\sklearn\\naive_bayes.py:207: DataConversionWarning: A column-vector y was passed when a 1d array was expected. Please change the shape of y to (n_samples, ), for example using ravel().\n",
      "  y = column_or_1d(y, warn=True)\n",
      "C:\\Users\\Noah\\Anaconda3\\lib\\site-packages\\diffprivlib\\models\\naive_bayes.py:93: PrivacyLeakWarning: Bounds have not been specified and will be calculated on the data provided. This will result in additional privacy leakage. To ensure differential privacy and no additional privacy leakage, specify bounds for each dimension.\n",
      "  \"privacy leakage, specify bounds for each dimension.\", PrivacyLeakWarning)\n",
      "C:\\Users\\Noah\\Anaconda3\\lib\\site-packages\\sklearn\\naive_bayes.py:207: DataConversionWarning: A column-vector y was passed when a 1d array was expected. Please change the shape of y to (n_samples, ), for example using ravel().\n",
      "  y = column_or_1d(y, warn=True)\n",
      "C:\\Users\\Noah\\Anaconda3\\lib\\site-packages\\diffprivlib\\models\\naive_bayes.py:93: PrivacyLeakWarning: Bounds have not been specified and will be calculated on the data provided. This will result in additional privacy leakage. To ensure differential privacy and no additional privacy leakage, specify bounds for each dimension.\n",
      "  \"privacy leakage, specify bounds for each dimension.\", PrivacyLeakWarning)\n",
      "C:\\Users\\Noah\\Anaconda3\\lib\\site-packages\\sklearn\\naive_bayes.py:207: DataConversionWarning: A column-vector y was passed when a 1d array was expected. Please change the shape of y to (n_samples, ), for example using ravel().\n",
      "  y = column_or_1d(y, warn=True)\n",
      "C:\\Users\\Noah\\Anaconda3\\lib\\site-packages\\diffprivlib\\models\\naive_bayes.py:93: PrivacyLeakWarning: Bounds have not been specified and will be calculated on the data provided. This will result in additional privacy leakage. To ensure differential privacy and no additional privacy leakage, specify bounds for each dimension.\n",
      "  \"privacy leakage, specify bounds for each dimension.\", PrivacyLeakWarning)\n",
      "C:\\Users\\Noah\\Anaconda3\\lib\\site-packages\\sklearn\\naive_bayes.py:207: DataConversionWarning: A column-vector y was passed when a 1d array was expected. Please change the shape of y to (n_samples, ), for example using ravel().\n",
      "  y = column_or_1d(y, warn=True)\n",
      "C:\\Users\\Noah\\Anaconda3\\lib\\site-packages\\diffprivlib\\models\\naive_bayes.py:93: PrivacyLeakWarning: Bounds have not been specified and will be calculated on the data provided. This will result in additional privacy leakage. To ensure differential privacy and no additional privacy leakage, specify bounds for each dimension.\n",
      "  \"privacy leakage, specify bounds for each dimension.\", PrivacyLeakWarning)\n",
      "C:\\Users\\Noah\\Anaconda3\\lib\\site-packages\\sklearn\\naive_bayes.py:207: DataConversionWarning: A column-vector y was passed when a 1d array was expected. Please change the shape of y to (n_samples, ), for example using ravel().\n",
      "  y = column_or_1d(y, warn=True)\n",
      "C:\\Users\\Noah\\Anaconda3\\lib\\site-packages\\diffprivlib\\models\\naive_bayes.py:93: PrivacyLeakWarning: Bounds have not been specified and will be calculated on the data provided. This will result in additional privacy leakage. To ensure differential privacy and no additional privacy leakage, specify bounds for each dimension.\n",
      "  \"privacy leakage, specify bounds for each dimension.\", PrivacyLeakWarning)\n",
      "C:\\Users\\Noah\\Anaconda3\\lib\\site-packages\\sklearn\\naive_bayes.py:207: DataConversionWarning: A column-vector y was passed when a 1d array was expected. Please change the shape of y to (n_samples, ), for example using ravel().\n",
      "  y = column_or_1d(y, warn=True)\n",
      "C:\\Users\\Noah\\Anaconda3\\lib\\site-packages\\diffprivlib\\models\\naive_bayes.py:93: PrivacyLeakWarning: Bounds have not been specified and will be calculated on the data provided. This will result in additional privacy leakage. To ensure differential privacy and no additional privacy leakage, specify bounds for each dimension.\n",
      "  \"privacy leakage, specify bounds for each dimension.\", PrivacyLeakWarning)\n",
      "C:\\Users\\Noah\\Anaconda3\\lib\\site-packages\\sklearn\\naive_bayes.py:207: DataConversionWarning: A column-vector y was passed when a 1d array was expected. Please change the shape of y to (n_samples, ), for example using ravel().\n",
      "  y = column_or_1d(y, warn=True)\n",
      "C:\\Users\\Noah\\Anaconda3\\lib\\site-packages\\diffprivlib\\models\\naive_bayes.py:93: PrivacyLeakWarning: Bounds have not been specified and will be calculated on the data provided. This will result in additional privacy leakage. To ensure differential privacy and no additional privacy leakage, specify bounds for each dimension.\n",
      "  \"privacy leakage, specify bounds for each dimension.\", PrivacyLeakWarning)\n",
      "C:\\Users\\Noah\\Anaconda3\\lib\\site-packages\\sklearn\\naive_bayes.py:207: DataConversionWarning: A column-vector y was passed when a 1d array was expected. Please change the shape of y to (n_samples, ), for example using ravel().\n",
      "  y = column_or_1d(y, warn=True)\n",
      "C:\\Users\\Noah\\Anaconda3\\lib\\site-packages\\diffprivlib\\models\\naive_bayes.py:93: PrivacyLeakWarning: Bounds have not been specified and will be calculated on the data provided. This will result in additional privacy leakage. To ensure differential privacy and no additional privacy leakage, specify bounds for each dimension.\n",
      "  \"privacy leakage, specify bounds for each dimension.\", PrivacyLeakWarning)\n",
      "C:\\Users\\Noah\\Anaconda3\\lib\\site-packages\\sklearn\\naive_bayes.py:207: DataConversionWarning: A column-vector y was passed when a 1d array was expected. Please change the shape of y to (n_samples, ), for example using ravel().\n",
      "  y = column_or_1d(y, warn=True)\n",
      "C:\\Users\\Noah\\Anaconda3\\lib\\site-packages\\diffprivlib\\models\\naive_bayes.py:93: PrivacyLeakWarning: Bounds have not been specified and will be calculated on the data provided. This will result in additional privacy leakage. To ensure differential privacy and no additional privacy leakage, specify bounds for each dimension.\n",
      "  \"privacy leakage, specify bounds for each dimension.\", PrivacyLeakWarning)\n",
      "C:\\Users\\Noah\\Anaconda3\\lib\\site-packages\\sklearn\\naive_bayes.py:207: DataConversionWarning: A column-vector y was passed when a 1d array was expected. Please change the shape of y to (n_samples, ), for example using ravel().\n",
      "  y = column_or_1d(y, warn=True)\n",
      "C:\\Users\\Noah\\Anaconda3\\lib\\site-packages\\diffprivlib\\models\\naive_bayes.py:93: PrivacyLeakWarning: Bounds have not been specified and will be calculated on the data provided. This will result in additional privacy leakage. To ensure differential privacy and no additional privacy leakage, specify bounds for each dimension.\n",
      "  \"privacy leakage, specify bounds for each dimension.\", PrivacyLeakWarning)\n",
      "C:\\Users\\Noah\\Anaconda3\\lib\\site-packages\\sklearn\\naive_bayes.py:207: DataConversionWarning: A column-vector y was passed when a 1d array was expected. Please change the shape of y to (n_samples, ), for example using ravel().\n",
      "  y = column_or_1d(y, warn=True)\n",
      "C:\\Users\\Noah\\Anaconda3\\lib\\site-packages\\diffprivlib\\models\\naive_bayes.py:93: PrivacyLeakWarning: Bounds have not been specified and will be calculated on the data provided. This will result in additional privacy leakage. To ensure differential privacy and no additional privacy leakage, specify bounds for each dimension.\n",
      "  \"privacy leakage, specify bounds for each dimension.\", PrivacyLeakWarning)\n",
      "C:\\Users\\Noah\\Anaconda3\\lib\\site-packages\\sklearn\\naive_bayes.py:207: DataConversionWarning: A column-vector y was passed when a 1d array was expected. Please change the shape of y to (n_samples, ), for example using ravel().\n",
      "  y = column_or_1d(y, warn=True)\n",
      "C:\\Users\\Noah\\Anaconda3\\lib\\site-packages\\diffprivlib\\models\\naive_bayes.py:93: PrivacyLeakWarning: Bounds have not been specified and will be calculated on the data provided. This will result in additional privacy leakage. To ensure differential privacy and no additional privacy leakage, specify bounds for each dimension.\n",
      "  \"privacy leakage, specify bounds for each dimension.\", PrivacyLeakWarning)\n",
      "C:\\Users\\Noah\\Anaconda3\\lib\\site-packages\\sklearn\\naive_bayes.py:207: DataConversionWarning: A column-vector y was passed when a 1d array was expected. Please change the shape of y to (n_samples, ), for example using ravel().\n",
      "  y = column_or_1d(y, warn=True)\n",
      "C:\\Users\\Noah\\Anaconda3\\lib\\site-packages\\diffprivlib\\models\\naive_bayes.py:93: PrivacyLeakWarning: Bounds have not been specified and will be calculated on the data provided. This will result in additional privacy leakage. To ensure differential privacy and no additional privacy leakage, specify bounds for each dimension.\n",
      "  \"privacy leakage, specify bounds for each dimension.\", PrivacyLeakWarning)\n",
      "C:\\Users\\Noah\\Anaconda3\\lib\\site-packages\\sklearn\\naive_bayes.py:207: DataConversionWarning: A column-vector y was passed when a 1d array was expected. Please change the shape of y to (n_samples, ), for example using ravel().\n",
      "  y = column_or_1d(y, warn=True)\n",
      "C:\\Users\\Noah\\Anaconda3\\lib\\site-packages\\diffprivlib\\models\\naive_bayes.py:93: PrivacyLeakWarning: Bounds have not been specified and will be calculated on the data provided. This will result in additional privacy leakage. To ensure differential privacy and no additional privacy leakage, specify bounds for each dimension.\n",
      "  \"privacy leakage, specify bounds for each dimension.\", PrivacyLeakWarning)\n",
      "C:\\Users\\Noah\\Anaconda3\\lib\\site-packages\\sklearn\\naive_bayes.py:207: DataConversionWarning: A column-vector y was passed when a 1d array was expected. Please change the shape of y to (n_samples, ), for example using ravel().\n",
      "  y = column_or_1d(y, warn=True)\n",
      "C:\\Users\\Noah\\Anaconda3\\lib\\site-packages\\diffprivlib\\models\\naive_bayes.py:93: PrivacyLeakWarning: Bounds have not been specified and will be calculated on the data provided. This will result in additional privacy leakage. To ensure differential privacy and no additional privacy leakage, specify bounds for each dimension.\n",
      "  \"privacy leakage, specify bounds for each dimension.\", PrivacyLeakWarning)\n",
      "C:\\Users\\Noah\\Anaconda3\\lib\\site-packages\\sklearn\\naive_bayes.py:207: DataConversionWarning: A column-vector y was passed when a 1d array was expected. Please change the shape of y to (n_samples, ), for example using ravel().\n",
      "  y = column_or_1d(y, warn=True)\n",
      "C:\\Users\\Noah\\Anaconda3\\lib\\site-packages\\diffprivlib\\models\\naive_bayes.py:93: PrivacyLeakWarning: Bounds have not been specified and will be calculated on the data provided. This will result in additional privacy leakage. To ensure differential privacy and no additional privacy leakage, specify bounds for each dimension.\n",
      "  \"privacy leakage, specify bounds for each dimension.\", PrivacyLeakWarning)\n",
      "C:\\Users\\Noah\\Anaconda3\\lib\\site-packages\\sklearn\\naive_bayes.py:207: DataConversionWarning: A column-vector y was passed when a 1d array was expected. Please change the shape of y to (n_samples, ), for example using ravel().\n",
      "  y = column_or_1d(y, warn=True)\n",
      "C:\\Users\\Noah\\Anaconda3\\lib\\site-packages\\diffprivlib\\models\\naive_bayes.py:93: PrivacyLeakWarning: Bounds have not been specified and will be calculated on the data provided. This will result in additional privacy leakage. To ensure differential privacy and no additional privacy leakage, specify bounds for each dimension.\n",
      "  \"privacy leakage, specify bounds for each dimension.\", PrivacyLeakWarning)\n",
      "C:\\Users\\Noah\\Anaconda3\\lib\\site-packages\\sklearn\\naive_bayes.py:207: DataConversionWarning: A column-vector y was passed when a 1d array was expected. Please change the shape of y to (n_samples, ), for example using ravel().\n",
      "  y = column_or_1d(y, warn=True)\n",
      "C:\\Users\\Noah\\Anaconda3\\lib\\site-packages\\diffprivlib\\models\\naive_bayes.py:93: PrivacyLeakWarning: Bounds have not been specified and will be calculated on the data provided. This will result in additional privacy leakage. To ensure differential privacy and no additional privacy leakage, specify bounds for each dimension.\n",
      "  \"privacy leakage, specify bounds for each dimension.\", PrivacyLeakWarning)\n",
      "C:\\Users\\Noah\\Anaconda3\\lib\\site-packages\\sklearn\\naive_bayes.py:207: DataConversionWarning: A column-vector y was passed when a 1d array was expected. Please change the shape of y to (n_samples, ), for example using ravel().\n",
      "  y = column_or_1d(y, warn=True)\n",
      "C:\\Users\\Noah\\Anaconda3\\lib\\site-packages\\diffprivlib\\models\\naive_bayes.py:93: PrivacyLeakWarning: Bounds have not been specified and will be calculated on the data provided. This will result in additional privacy leakage. To ensure differential privacy and no additional privacy leakage, specify bounds for each dimension.\n",
      "  \"privacy leakage, specify bounds for each dimension.\", PrivacyLeakWarning)\n",
      "C:\\Users\\Noah\\Anaconda3\\lib\\site-packages\\sklearn\\naive_bayes.py:207: DataConversionWarning: A column-vector y was passed when a 1d array was expected. Please change the shape of y to (n_samples, ), for example using ravel().\n",
      "  y = column_or_1d(y, warn=True)\n",
      "C:\\Users\\Noah\\Anaconda3\\lib\\site-packages\\diffprivlib\\models\\naive_bayes.py:93: PrivacyLeakWarning: Bounds have not been specified and will be calculated on the data provided. This will result in additional privacy leakage. To ensure differential privacy and no additional privacy leakage, specify bounds for each dimension.\n",
      "  \"privacy leakage, specify bounds for each dimension.\", PrivacyLeakWarning)\n",
      "C:\\Users\\Noah\\Anaconda3\\lib\\site-packages\\sklearn\\naive_bayes.py:207: DataConversionWarning: A column-vector y was passed when a 1d array was expected. Please change the shape of y to (n_samples, ), for example using ravel().\n",
      "  y = column_or_1d(y, warn=True)\n",
      "C:\\Users\\Noah\\Anaconda3\\lib\\site-packages\\diffprivlib\\models\\naive_bayes.py:93: PrivacyLeakWarning: Bounds have not been specified and will be calculated on the data provided. This will result in additional privacy leakage. To ensure differential privacy and no additional privacy leakage, specify bounds for each dimension.\n",
      "  \"privacy leakage, specify bounds for each dimension.\", PrivacyLeakWarning)\n",
      "C:\\Users\\Noah\\Anaconda3\\lib\\site-packages\\sklearn\\naive_bayes.py:207: DataConversionWarning: A column-vector y was passed when a 1d array was expected. Please change the shape of y to (n_samples, ), for example using ravel().\n",
      "  y = column_or_1d(y, warn=True)\n",
      "C:\\Users\\Noah\\Anaconda3\\lib\\site-packages\\diffprivlib\\models\\naive_bayes.py:93: PrivacyLeakWarning: Bounds have not been specified and will be calculated on the data provided. This will result in additional privacy leakage. To ensure differential privacy and no additional privacy leakage, specify bounds for each dimension.\n",
      "  \"privacy leakage, specify bounds for each dimension.\", PrivacyLeakWarning)\n",
      "C:\\Users\\Noah\\Anaconda3\\lib\\site-packages\\sklearn\\naive_bayes.py:207: DataConversionWarning: A column-vector y was passed when a 1d array was expected. Please change the shape of y to (n_samples, ), for example using ravel().\n",
      "  y = column_or_1d(y, warn=True)\n",
      "C:\\Users\\Noah\\Anaconda3\\lib\\site-packages\\diffprivlib\\models\\naive_bayes.py:93: PrivacyLeakWarning: Bounds have not been specified and will be calculated on the data provided. This will result in additional privacy leakage. To ensure differential privacy and no additional privacy leakage, specify bounds for each dimension.\n",
      "  \"privacy leakage, specify bounds for each dimension.\", PrivacyLeakWarning)\n",
      "C:\\Users\\Noah\\Anaconda3\\lib\\site-packages\\sklearn\\naive_bayes.py:207: DataConversionWarning: A column-vector y was passed when a 1d array was expected. Please change the shape of y to (n_samples, ), for example using ravel().\n",
      "  y = column_or_1d(y, warn=True)\n",
      "C:\\Users\\Noah\\Anaconda3\\lib\\site-packages\\diffprivlib\\models\\naive_bayes.py:93: PrivacyLeakWarning: Bounds have not been specified and will be calculated on the data provided. This will result in additional privacy leakage. To ensure differential privacy and no additional privacy leakage, specify bounds for each dimension.\n",
      "  \"privacy leakage, specify bounds for each dimension.\", PrivacyLeakWarning)\n",
      "C:\\Users\\Noah\\Anaconda3\\lib\\site-packages\\sklearn\\naive_bayes.py:207: DataConversionWarning: A column-vector y was passed when a 1d array was expected. Please change the shape of y to (n_samples, ), for example using ravel().\n",
      "  y = column_or_1d(y, warn=True)\n",
      "C:\\Users\\Noah\\Anaconda3\\lib\\site-packages\\diffprivlib\\models\\naive_bayes.py:93: PrivacyLeakWarning: Bounds have not been specified and will be calculated on the data provided. This will result in additional privacy leakage. To ensure differential privacy and no additional privacy leakage, specify bounds for each dimension.\n",
      "  \"privacy leakage, specify bounds for each dimension.\", PrivacyLeakWarning)\n",
      "C:\\Users\\Noah\\Anaconda3\\lib\\site-packages\\sklearn\\naive_bayes.py:207: DataConversionWarning: A column-vector y was passed when a 1d array was expected. Please change the shape of y to (n_samples, ), for example using ravel().\n",
      "  y = column_or_1d(y, warn=True)\n",
      "C:\\Users\\Noah\\Anaconda3\\lib\\site-packages\\diffprivlib\\models\\naive_bayes.py:93: PrivacyLeakWarning: Bounds have not been specified and will be calculated on the data provided. This will result in additional privacy leakage. To ensure differential privacy and no additional privacy leakage, specify bounds for each dimension.\n",
      "  \"privacy leakage, specify bounds for each dimension.\", PrivacyLeakWarning)\n",
      "C:\\Users\\Noah\\Anaconda3\\lib\\site-packages\\sklearn\\naive_bayes.py:207: DataConversionWarning: A column-vector y was passed when a 1d array was expected. Please change the shape of y to (n_samples, ), for example using ravel().\n",
      "  y = column_or_1d(y, warn=True)\n",
      "C:\\Users\\Noah\\Anaconda3\\lib\\site-packages\\diffprivlib\\models\\naive_bayes.py:93: PrivacyLeakWarning: Bounds have not been specified and will be calculated on the data provided. This will result in additional privacy leakage. To ensure differential privacy and no additional privacy leakage, specify bounds for each dimension.\n",
      "  \"privacy leakage, specify bounds for each dimension.\", PrivacyLeakWarning)\n",
      "C:\\Users\\Noah\\Anaconda3\\lib\\site-packages\\sklearn\\naive_bayes.py:207: DataConversionWarning: A column-vector y was passed when a 1d array was expected. Please change the shape of y to (n_samples, ), for example using ravel().\n",
      "  y = column_or_1d(y, warn=True)\n",
      "C:\\Users\\Noah\\Anaconda3\\lib\\site-packages\\diffprivlib\\models\\naive_bayes.py:93: PrivacyLeakWarning: Bounds have not been specified and will be calculated on the data provided. This will result in additional privacy leakage. To ensure differential privacy and no additional privacy leakage, specify bounds for each dimension.\n",
      "  \"privacy leakage, specify bounds for each dimension.\", PrivacyLeakWarning)\n"
     ]
    },
    {
     "data": {
      "text/plain": [
       "<Figure size 640x480 with 1 Axes>"
      ]
     },
     "metadata": {},
     "output_type": "display_data"
    }
   ],
   "source": [
    "import numpy as np\n",
    "import matplotlib.pyplot as plt\n",
    "from sklearn.metrics import accuracy_score\n",
    "\n",
    "epsilons = np.logspace(-2, 2, 50)\n",
    "bounds = [(4.3, 7.9), (2.0, 4.4), (1.1, 6.9), (0.1, 2.5)]\n",
    "accuracy = list()\n",
    "\n",
    "for epsilon in epsilons:\n",
    "    clf = models.GaussianNB(epsilon)\n",
    "    clf.fit(X_train, y_train)\n",
    "    \n",
    "    accuracy.append(accuracy_score(y_test, clf.predict(X_test)))\n",
    "\n",
    "plt.semilogx(epsilons, accuracy)\n",
    "plt.title(\"Differentially private Naive Bayes accuracy\")\n",
    "plt.xlabel(\"epsilon\")\n",
    "plt.ylabel(\"Accuracy\")\n",
    "plt.show()"
   ]
  },
  {
   "cell_type": "code",
   "execution_count": 14,
   "metadata": {
    "ExecuteTime": {
     "end_time": "2020-03-31T14:48:57.126560Z",
     "start_time": "2020-03-31T14:48:57.120564Z"
    }
   },
   "outputs": [
    {
     "name": "stdout",
     "output_type": "stream",
     "text": [
      "[0 0 1 0 0 0 1]\n"
     ]
    }
   ],
   "source": [
    "# Predictions\n",
    "print(naive_bayes.predict(X_test))"
   ]
  },
  {
   "cell_type": "code",
   "execution_count": 15,
   "metadata": {
    "ExecuteTime": {
     "end_time": "2020-03-31T14:48:57.191591Z",
     "start_time": "2020-03-31T14:48:57.128563Z"
    }
   },
   "outputs": [
    {
     "name": "stdout",
     "output_type": "stream",
     "text": [
      "[[9.99994910e-01 5.09005696e-06]\n",
      " [9.99968916e-01 3.10842486e-05]\n",
      " [0.00000000e+00 1.00000000e+00]\n",
      " [8.84570501e-01 1.15429499e-01]\n",
      " [8.00907988e-01 1.99092012e-01]\n",
      " [9.99932094e-01 6.79055800e-05]\n",
      " [0.00000000e+00 1.00000000e+00]]\n"
     ]
    }
   ],
   "source": [
    "# Probabilites \n",
    "print(naive_bayes.predict_proba(X_test))"
   ]
  },
  {
   "cell_type": "code",
   "execution_count": 16,
   "metadata": {
    "ExecuteTime": {
     "end_time": "2020-03-31T14:48:57.209560Z",
     "start_time": "2020-03-31T14:48:57.193594Z"
    }
   },
   "outputs": [
    {
     "data": {
      "text/html": [
       "<div>\n",
       "<style scoped>\n",
       "    .dataframe tbody tr th:only-of-type {\n",
       "        vertical-align: middle;\n",
       "    }\n",
       "\n",
       "    .dataframe tbody tr th {\n",
       "        vertical-align: top;\n",
       "    }\n",
       "\n",
       "    .dataframe thead th {\n",
       "        text-align: right;\n",
       "    }\n",
       "</style>\n",
       "<table border=\"1\" class=\"dataframe\">\n",
       "  <thead>\n",
       "    <tr style=\"text-align: right;\">\n",
       "      <th></th>\n",
       "      <th>Temperature_Numeric</th>\n",
       "      <th>Humidity_Numeric</th>\n",
       "      <th>Windy</th>\n",
       "      <th>Outlook_overcast</th>\n",
       "      <th>Outlook_rainy</th>\n",
       "      <th>Outlook_sunny</th>\n",
       "      <th>Temperature_Nominal_cool</th>\n",
       "      <th>Temperature_Nominal_hot</th>\n",
       "      <th>Temperature_Nominal_mild</th>\n",
       "      <th>Humidity_Nominal_high</th>\n",
       "      <th>Humidity_Nominal_normal</th>\n",
       "    </tr>\n",
       "  </thead>\n",
       "  <tbody>\n",
       "    <tr>\n",
       "      <th>0</th>\n",
       "      <td>85</td>\n",
       "      <td>40</td>\n",
       "      <td>0</td>\n",
       "      <td>0</td>\n",
       "      <td>0</td>\n",
       "      <td>1</td>\n",
       "      <td>0</td>\n",
       "      <td>0</td>\n",
       "      <td>1</td>\n",
       "      <td>0</td>\n",
       "      <td>1</td>\n",
       "    </tr>\n",
       "  </tbody>\n",
       "</table>\n",
       "</div>"
      ],
      "text/plain": [
       "   Temperature_Numeric  Humidity_Numeric  Windy  Outlook_overcast  \\\n",
       "0                   85                40      0                 0   \n",
       "\n",
       "   Outlook_rainy  Outlook_sunny  Temperature_Nominal_cool  \\\n",
       "0              0              1                         0   \n",
       "\n",
       "   Temperature_Nominal_hot  Temperature_Nominal_mild  Humidity_Nominal_high  \\\n",
       "0                        0                         1                      0   \n",
       "\n",
       "   Humidity_Nominal_normal  \n",
       "0                        1  "
      ]
     },
     "execution_count": 16,
     "metadata": {},
     "output_type": "execute_result"
    }
   ],
   "source": [
    "# how about predicting on new data?\n",
    "future_golf_data = pd.DataFrame([[85,40,0,0,0,1,0,0,1,0,1]], columns=features)\n",
    "future_golf_data.head()\n"
   ]
  },
  {
   "cell_type": "code",
   "execution_count": 17,
   "metadata": {
    "ExecuteTime": {
     "end_time": "2020-03-31T14:48:57.221595Z",
     "start_time": "2020-03-31T14:48:57.212563Z"
    }
   },
   "outputs": [
    {
     "name": "stdout",
     "output_type": "stream",
     "text": [
      "Will I Golf Tomorrow? True\n"
     ]
    }
   ],
   "source": [
    "print(\"Will I Golf Tomorrow? %s\" % bool(naive_bayes.predict(future_golf_data.head(1))[0]))"
   ]
  },
  {
   "cell_type": "code",
   "execution_count": null,
   "metadata": {},
   "outputs": [],
   "source": []
  },
  {
   "cell_type": "markdown",
   "metadata": {},
   "source": [
    "# Pulling In Live Weather Data From OpenWeatherMap"
   ]
  },
  {
   "cell_type": "code",
   "execution_count": 18,
   "metadata": {
    "ExecuteTime": {
     "end_time": "2020-03-31T14:48:57.324560Z",
     "start_time": "2020-03-31T14:48:57.224561Z"
    },
    "scrolled": true
   },
   "outputs": [
    {
     "data": {
      "text/plain": [
       "{'coord': {'lon': 2.16, 'lat': 41.39},\n",
       " 'weather': [{'id': 500,\n",
       "   'main': 'Rain',\n",
       "   'description': 'light rain',\n",
       "   'icon': '10d'}],\n",
       " 'base': 'stations',\n",
       " 'main': {'temp': 284.81,\n",
       "  'feels_like': 278.85,\n",
       "  'temp_min': 282.59,\n",
       "  'temp_max': 285.93,\n",
       "  'pressure': 1013,\n",
       "  'humidity': 76},\n",
       " 'visibility': 8000,\n",
       " 'wind': {'speed': 7.7, 'deg': 60},\n",
       " 'rain': {'1h': 0.51},\n",
       " 'clouds': {'all': 75},\n",
       " 'dt': 1585665916,\n",
       " 'sys': {'type': 1,\n",
       "  'id': 6398,\n",
       "  'country': 'ES',\n",
       "  'sunrise': 1585632930,\n",
       "  'sunset': 1585678501},\n",
       " 'timezone': 7200,\n",
       " 'id': 3128760,\n",
       " 'name': 'Barcelona',\n",
       " 'cod': 200}"
      ]
     },
     "execution_count": 18,
     "metadata": {},
     "output_type": "execute_result"
    }
   ],
   "source": [
    "# bring in real weather data using openweathermap and json.load\n",
    "from urllib.request import urlopen\n",
    "import json\n",
    "YOUR_OPENWEATHERMAP_API_KEY = '7940fa88f265d6334c84e901f9555e34'\n",
    "weather_json = json.load(urlopen(\"http://api.openweathermap.org/data/2.5/weather?q=Barcelona&appid=\" + YOUR_OPENWEATHERMAP_API_KEY))\n",
    "weather_json\n"
   ]
  },
  {
   "cell_type": "code",
   "execution_count": 19,
   "metadata": {
    "ExecuteTime": {
     "end_time": "2020-03-31T14:48:57.334586Z",
     "start_time": "2020-03-31T14:48:57.327560Z"
    }
   },
   "outputs": [
    {
     "data": {
      "text/plain": [
       "{'temp': 284.81,\n",
       " 'feels_like': 278.85,\n",
       " 'temp_min': 282.59,\n",
       " 'temp_max': 285.93,\n",
       " 'pressure': 1013,\n",
       " 'humidity': 76}"
      ]
     },
     "execution_count": 19,
     "metadata": {},
     "output_type": "execute_result"
    }
   ],
   "source": [
    "# access individual sections\n",
    "weather_json['main']"
   ]
  },
  {
   "cell_type": "markdown",
   "metadata": {},
   "source": [
    "## Extracting Forecast Data"
   ]
  },
  {
   "cell_type": "code",
   "execution_count": 20,
   "metadata": {
    "ExecuteTime": {
     "end_time": "2020-03-31T14:48:57.441561Z",
     "start_time": "2020-03-31T14:48:57.338560Z"
    }
   },
   "outputs": [],
   "source": [
    "selected_location = \"Seattle\"\n",
    "openweathermap_url = \"http://api.openweathermap.org/data/2.5/forecast?q=\" + selected_location + \"&APPID=\" + YOUR_OPENWEATHERMAP_API_KEY\n",
    "from urllib.request import urlopen\n",
    "import json\n",
    "weather_json = json.load(urlopen(openweathermap_url))\n",
    "\n",
    "\n",
    "# finding the right times - locate first 6AM instance\n",
    "time_stamp_start = 0\n",
    "len(weather_json['list'])\n",
    "for forc in range(len(weather_json['list'])):\n",
    "    time_stamp = weather_json['list'][forc]['dt_txt']\n",
    "    if time_stamp.split()[1] == \"06:00:00\":\n",
    "        time_stamp_start = forc  \n",
    "        break;\n"
   ]
  },
  {
   "cell_type": "code",
   "execution_count": 21,
   "metadata": {
    "ExecuteTime": {
     "end_time": "2020-03-31T14:48:57.449561Z",
     "start_time": "2020-03-31T14:48:57.443558Z"
    }
   },
   "outputs": [
    {
     "data": {
      "text/plain": [
       "{'dt': 1585720800,\n",
       " 'main': {'temp': 277.53,\n",
       "  'feels_like': 275.42,\n",
       "  'temp_min': 277.53,\n",
       "  'temp_max': 277.53,\n",
       "  'pressure': 1018,\n",
       "  'sea_level': 1018,\n",
       "  'grnd_level': 1008,\n",
       "  'humidity': 88,\n",
       "  'temp_kf': 0},\n",
       " 'weather': [{'id': 500,\n",
       "   'main': 'Rain',\n",
       "   'description': 'light rain',\n",
       "   'icon': '10n'}],\n",
       " 'clouds': {'all': 100},\n",
       " 'wind': {'speed': 0.76, 'deg': 182},\n",
       " 'rain': {'3h': 1.05},\n",
       " 'sys': {'pod': 'n'},\n",
       " 'dt_txt': '2020-04-01 06:00:00'}"
      ]
     },
     "execution_count": 21,
     "metadata": {},
     "output_type": "execute_result"
    }
   ],
   "source": [
    "# 6 AM next day\n",
    "weather_json['list'][time_stamp_start]"
   ]
  },
  {
   "cell_type": "code",
   "execution_count": 22,
   "metadata": {
    "ExecuteTime": {
     "end_time": "2020-03-31T14:48:57.459565Z",
     "start_time": "2020-03-31T14:48:57.453589Z"
    }
   },
   "outputs": [
    {
     "data": {
      "text/plain": [
       "{'dt': 1585742400,\n",
       " 'main': {'temp': 276.52,\n",
       "  'feels_like': 274.5,\n",
       "  'temp_min': 276.52,\n",
       "  'temp_max': 276.52,\n",
       "  'pressure': 1018,\n",
       "  'sea_level': 1018,\n",
       "  'grnd_level': 1008,\n",
       "  'humidity': 92,\n",
       "  'temp_kf': 0},\n",
       " 'weather': [{'id': 500,\n",
       "   'main': 'Rain',\n",
       "   'description': 'light rain',\n",
       "   'icon': '10n'},\n",
       "  {'id': 600, 'main': 'Snow', 'description': 'light snow', 'icon': '13n'}],\n",
       " 'clouds': {'all': 100},\n",
       " 'wind': {'speed': 0.54, 'deg': 194},\n",
       " 'rain': {'3h': 0.57},\n",
       " 'snow': {'3h': 0.57},\n",
       " 'sys': {'pod': 'n'},\n",
       " 'dt_txt': '2020-04-01 12:00:00'}"
      ]
     },
     "execution_count": 22,
     "metadata": {},
     "output_type": "execute_result"
    }
   ],
   "source": [
    "# 12 PM next day\n",
    "weather_json['list'][time_stamp_start+2]"
   ]
  },
  {
   "cell_type": "markdown",
   "metadata": {},
   "source": [
    "## Translating Data From OpenWeatherMap to Golf|Weather Data"
   ]
  },
  {
   "cell_type": "code",
   "execution_count": 23,
   "metadata": {
    "ExecuteTime": {
     "end_time": "2020-03-31T14:48:57.471564Z",
     "start_time": "2020-03-31T14:48:57.464567Z"
    }
   },
   "outputs": [
    {
     "data": {
      "text/plain": [
       "92"
      ]
     },
     "execution_count": 23,
     "metadata": {},
     "output_type": "execute_result"
    }
   ],
   "source": [
    "# get specifics for 12 PM\n",
    "forecast_data = weather_json['list'][time_stamp_start+2]\n",
    "forecast_data['main']['humidity']"
   ]
  },
  {
   "cell_type": "code",
   "execution_count": 24,
   "metadata": {
    "ExecuteTime": {
     "end_time": "2020-03-31T14:48:57.485566Z",
     "start_time": "2020-03-31T14:48:57.476571Z"
    }
   },
   "outputs": [
    {
     "data": {
      "text/plain": [
       "'10n'"
      ]
     },
     "execution_count": 24,
     "metadata": {},
     "output_type": "execute_result"
    }
   ],
   "source": [
    "forecast_data['weather'][0]['icon']"
   ]
  },
  {
   "cell_type": "code",
   "execution_count": 25,
   "metadata": {
    "ExecuteTime": {
     "end_time": "2020-03-31T14:48:57.495558Z",
     "start_time": "2020-03-31T14:48:57.488574Z"
    }
   },
   "outputs": [
    {
     "data": {
      "text/plain": [
       "0.54"
      ]
     },
     "execution_count": 25,
     "metadata": {},
     "output_type": "execute_result"
    }
   ],
   "source": [
    "forecast_data['wind']['speed']"
   ]
  },
  {
   "cell_type": "code",
   "execution_count": 26,
   "metadata": {
    "ExecuteTime": {
     "end_time": "2020-03-31T14:48:57.508560Z",
     "start_time": "2020-03-31T14:48:57.501557Z"
    }
   },
   "outputs": [
    {
     "data": {
      "text/plain": [
       "{'dt': 1585742400,\n",
       " 'main': {'temp': 276.52,\n",
       "  'feels_like': 274.5,\n",
       "  'temp_min': 276.52,\n",
       "  'temp_max': 276.52,\n",
       "  'pressure': 1018,\n",
       "  'sea_level': 1018,\n",
       "  'grnd_level': 1008,\n",
       "  'humidity': 92,\n",
       "  'temp_kf': 0},\n",
       " 'weather': [{'id': 500,\n",
       "   'main': 'Rain',\n",
       "   'description': 'light rain',\n",
       "   'icon': '10n'},\n",
       "  {'id': 600, 'main': 'Snow', 'description': 'light snow', 'icon': '13n'}],\n",
       " 'clouds': {'all': 100},\n",
       " 'wind': {'speed': 0.54, 'deg': 194},\n",
       " 'rain': {'3h': 0.57},\n",
       " 'snow': {'3h': 0.57},\n",
       " 'sys': {'pod': 'n'},\n",
       " 'dt_txt': '2020-04-01 12:00:00'}"
      ]
     },
     "execution_count": 26,
     "metadata": {},
     "output_type": "execute_result"
    }
   ],
   "source": [
    "forecast_data"
   ]
  },
  {
   "cell_type": "markdown",
   "metadata": {},
   "source": [
    "### Humidity"
   ]
  },
  {
   "cell_type": "code",
   "execution_count": 27,
   "metadata": {
    "ExecuteTime": {
     "end_time": "2020-03-31T14:48:57.521558Z",
     "start_time": "2020-03-31T14:48:57.515559Z"
    }
   },
   "outputs": [
    {
     "name": "stdout",
     "output_type": "stream",
     "text": [
      "humidity: 92.000000\n",
      "humidity_nominal: High\n"
     ]
    }
   ],
   "source": [
    "# humidity\n",
    "def GetNominalHumidity(humidity_percent):\n",
    "     if (humidity_percent > 80):\n",
    "        return \"high\"\n",
    "     else:\n",
    "        return \"normal\"\n",
    "    \n",
    "humidity = forecast_data['main']['humidity']\n",
    "print('humidity: %f' % humidity)\n",
    "humidity_nominal = GetNominalHumidity(humidity)\n",
    "print('humidity_nominal: %s' % humidity_nominal.capitalize())"
   ]
  },
  {
   "cell_type": "markdown",
   "metadata": {},
   "source": [
    "### Temperature"
   ]
  },
  {
   "cell_type": "code",
   "execution_count": 28,
   "metadata": {
    "ExecuteTime": {
     "end_time": "2020-03-31T14:48:57.532562Z",
     "start_time": "2020-03-31T14:48:57.523560Z"
    }
   },
   "outputs": [
    {
     "name": "stdout",
     "output_type": "stream",
     "text": [
      "temperature: 38.066000 Fahrenheit\n",
      "temperature_nominal: Cool\n"
     ]
    }
   ],
   "source": [
    "# temperature\n",
    "def GetNominalTemparature(temp_fahrenheit):\n",
    "    if (temp_fahrenheit < 70):\n",
    "        return \"cool\"\n",
    "    elif (temp_fahrenheit < 80):\n",
    "        return \"mild\"\n",
    "    else:\n",
    "        return \"hot\"\n",
    "    \n",
    "# temperature - to Fahrenheit and to nominal \n",
    "temperature = float(forecast_data['main']['temp']) * 1.8 - 459.67\n",
    "print('temperature: %f Fahrenheit' % temperature)\n",
    "temperature_nominal = GetNominalTemparature(temperature)\n",
    "print('temperature_nominal: %s' % temperature_nominal.capitalize())"
   ]
  },
  {
   "cell_type": "markdown",
   "metadata": {},
   "source": [
    "### Is Windy"
   ]
  },
  {
   "cell_type": "code",
   "execution_count": 29,
   "metadata": {
    "ExecuteTime": {
     "end_time": "2020-03-31T14:48:57.540556Z",
     "start_time": "2020-03-31T14:48:57.534560Z"
    }
   },
   "outputs": [
    {
     "name": "stdout",
     "output_type": "stream",
     "text": [
      "iswindy: False\n"
     ]
    }
   ],
   "source": [
    "def GetWindyBoolean(wind_meter_second):\n",
    "    if (wind_meter_second > 10.8):\n",
    "        return(True)\n",
    "    else:\n",
    "        return(False)\n",
    "    \n",
    "# wind speed \n",
    "iswindy = GetWindyBoolean(forecast_data['wind']['speed'])\n",
    "print('iswindy: %s' % iswindy)"
   ]
  },
  {
   "cell_type": "markdown",
   "metadata": {},
   "source": [
    "### Outlook and icon"
   ]
  },
  {
   "cell_type": "code",
   "execution_count": 30,
   "metadata": {
    "ExecuteTime": {
     "end_time": "2020-03-31T14:48:57.549560Z",
     "start_time": "2020-03-31T14:48:57.543557Z"
    }
   },
   "outputs": [
    {
     "name": "stdout",
     "output_type": "stream",
     "text": [
      "Outlook: Rain\n"
     ]
    }
   ],
   "source": [
    "def GetWeatherOutlookAndWeatherIcon(main_weather_icon):\n",
    "    # truncate third char - day or night not needed\n",
    "    main_weather_icon = main_weather_icon[0:2]\n",
    "\n",
    "    # return \"Golf|Weather Data\" variable and daytime icon\n",
    "    if (main_weather_icon in [\"01\", \"02\"]):\n",
    "        return(\"sunny\", main_weather_icon + \"d.png\")\n",
    "    elif (main_weather_icon in [\"03\", \"04\", 50]):\n",
    "        return(\"overcast\", main_weather_icon + \"d.png\")\n",
    "    else:\n",
    "        return(\"rain\", main_weather_icon + \"d.png\")\n",
    "    \n",
    "# weather icon\n",
    "outlook, outlook_icon = GetWeatherOutlookAndWeatherIcon(forecast_data['weather'][0]['icon'])\n",
    "print('Outlook: %s' % outlook.capitalize())\n",
    " \n",
    "            "
   ]
  },
  {
   "cell_type": "code",
   "execution_count": 31,
   "metadata": {
    "ExecuteTime": {
     "end_time": "2020-03-31T14:48:57.619562Z",
     "start_time": "2020-03-31T14:48:57.551557Z"
    }
   },
   "outputs": [
    {
     "data": {
      "image/png": "[encoded data removed]",
      "text/plain": [
       "<IPython.core.display.Image object>"
      ]
     },
     "metadata": {
      "image/png": {
       "unconfined": true
      }
     },
     "output_type": "display_data"
    }
   ],
   "source": [
    "from IPython.core.display import Image, display\n",
    "display(Image(\"http://openweathermap.org/img/w/\" + outlook_icon, unconfined=True))"
   ]
  },
  {
   "cell_type": "markdown",
   "metadata": {},
   "source": [
    "## Feeding in openweathermap data into the model"
   ]
  },
  {
   "cell_type": "code",
   "execution_count": 32,
   "metadata": {
    "ExecuteTime": {
     "end_time": "2020-03-31T14:48:57.626564Z",
     "start_time": "2020-03-31T14:48:57.621562Z"
    }
   },
   "outputs": [
    {
     "data": {
      "text/plain": [
       "['Temperature_Numeric',\n",
       " 'Humidity_Numeric',\n",
       " 'Windy',\n",
       " 'Outlook_overcast',\n",
       " 'Outlook_rainy',\n",
       " 'Outlook_sunny',\n",
       " 'Temperature_Nominal_cool',\n",
       " 'Temperature_Nominal_hot',\n",
       " 'Temperature_Nominal_mild',\n",
       " 'Humidity_Nominal_high',\n",
       " 'Humidity_Nominal_normal']"
      ]
     },
     "execution_count": 32,
     "metadata": {},
     "output_type": "execute_result"
    }
   ],
   "source": [
    "list(X_test)"
   ]
  },
  {
   "cell_type": "code",
   "execution_count": 33,
   "metadata": {
    "ExecuteTime": {
     "end_time": "2020-03-31T14:48:57.760560Z",
     "start_time": "2020-03-31T14:48:57.628562Z"
    }
   },
   "outputs": [
    {
     "data": {
      "text/html": [
       "<div>\n",
       "<style scoped>\n",
       "    .dataframe tbody tr th:only-of-type {\n",
       "        vertical-align: middle;\n",
       "    }\n",
       "\n",
       "    .dataframe tbody tr th {\n",
       "        vertical-align: top;\n",
       "    }\n",
       "\n",
       "    .dataframe thead th {\n",
       "        text-align: right;\n",
       "    }\n",
       "</style>\n",
       "<table border=\"1\" class=\"dataframe\">\n",
       "  <thead>\n",
       "    <tr style=\"text-align: right;\">\n",
       "      <th></th>\n",
       "      <th>Temperature_Numeric</th>\n",
       "      <th>Humidity_Numeric</th>\n",
       "      <th>Windy</th>\n",
       "      <th>Outlook_overcast</th>\n",
       "      <th>Outlook_rainy</th>\n",
       "      <th>Outlook_sunny</th>\n",
       "      <th>Temperature_Nominal_cool</th>\n",
       "      <th>Temperature_Nominal_hot</th>\n",
       "      <th>Temperature_Nominal_mild</th>\n",
       "      <th>Humidity_Nominal_high</th>\n",
       "      <th>Humidity_Nominal_normal</th>\n",
       "    </tr>\n",
       "  </thead>\n",
       "  <tbody>\n",
       "    <tr>\n",
       "      <th>0</th>\n",
       "      <td>38.642</td>\n",
       "      <td>85</td>\n",
       "      <td>0</td>\n",
       "      <td>0</td>\n",
       "      <td>0</td>\n",
       "      <td>0</td>\n",
       "      <td>1</td>\n",
       "      <td>0</td>\n",
       "      <td>0</td>\n",
       "      <td>1</td>\n",
       "      <td>0</td>\n",
       "    </tr>\n",
       "  </tbody>\n",
       "</table>\n",
       "</div>"
      ],
      "text/plain": [
       "   Temperature_Numeric  Humidity_Numeric  Windy  Outlook_overcast  \\\n",
       "0               38.642                85      0                 0   \n",
       "\n",
       "   Outlook_rainy  Outlook_sunny  Temperature_Nominal_cool  \\\n",
       "0              0              0                         1   \n",
       "\n",
       "   Temperature_Nominal_hot  Temperature_Nominal_mild  Humidity_Nominal_high  \\\n",
       "0                        0                         0                      1   \n",
       "\n",
       "   Humidity_Nominal_normal  \n",
       "0                        0  "
      ]
     },
     "execution_count": 33,
     "metadata": {},
     "output_type": "execute_result"
    }
   ],
   "source": [
    "# get openweathermap data\n",
    "selected_location = \"portland\"\n",
    "openweathermap_url = \"http://api.openweathermap.org/data/2.5/forecast?q=\" + selected_location + \"&APPID=\" + YOUR_OPENWEATHERMAP_API_KEY\n",
    "from urllib.request import urlopen\n",
    "import json\n",
    "weather_json = json.load(urlopen(openweathermap_url))\n",
    "\n",
    "\n",
    "# find the right times - locate first 6AM instance\n",
    "time_stamp_start = 0\n",
    "len(weather_json['list'])\n",
    "for forc in range(len(weather_json['list'])):\n",
    "    time_stamp = weather_json['list'][forc]['dt_txt']\n",
    "    if time_stamp.split()[1] == \"06:00:00\":\n",
    "        time_stamp_start = forc  \n",
    "        break;\n",
    "\n",
    "#  6-9 AM = time_stamp_start\n",
    "#  9-12 PM = time_stamp_start + 1\n",
    "#  12-3 PM = time_stamp_start + 2\n",
    "#  3-6 PM = time_stamp_start + 3\n",
    "#  6-9 PM = time_stamp_start + 4\n",
    "#  9-12 AM = time_stamp_start + 5\n",
    "        \n",
    "# get specifics for 12 PM\n",
    "forecast_data = weather_json['list'][time_stamp_start+2]\n",
    "\n",
    "# temperature - to Fahrenheit and to nominal \n",
    "temperature = float(forecast_data['main']['temp']) * 1.8 - 459.67\n",
    "temperature_nominal = GetNominalTemparature(temperature)\n",
    "humidity = forecast_data['main']['humidity']\n",
    "humidity_nominal = GetNominalHumidity(humidity)\n",
    "iswindy = GetWindyBoolean(forecast_data['wind']['speed'])\n",
    "outlook, outlook_icon = GetWeatherOutlookAndWeatherIcon(forecast_data['weather'][0]['icon'])\n",
    " \n",
    "Temperature_Numeric = temperature\n",
    "Humidity_Numeric = humidity\n",
    "Windy = int(iswindy)\n",
    "Outlook_overcast = int(outlook==\"overcast\")\n",
    "Outlook_rainy = int(outlook==\"rainy\")\n",
    "Outlook_sunny = int(outlook==\"sunny\")\n",
    "\n",
    "Temperature_Nominal_cool = int(temperature_nominal==\"cool\")\n",
    "Temperature_Nominal_hot = int(temperature_nominal==\"hot\")\n",
    "Temperature_Nominal_mild = int(temperature_nominal==\"mild\")\n",
    "Humidity_Nominal_high = int(humidity_nominal==\"high\")\n",
    "Humidity_Nominal_normal = int(humidity_nominal==\"normal\")\n",
    "\n",
    " \n",
    "future_data = pd.DataFrame([[Temperature_Numeric,\n",
    " Humidity_Numeric,\n",
    " Windy,\n",
    " Outlook_overcast,\n",
    " Outlook_rainy,\n",
    " Outlook_sunny,\n",
    " Temperature_Nominal_cool,\n",
    " Temperature_Nominal_hot,\n",
    " Temperature_Nominal_mild,\n",
    " Humidity_Nominal_high,\n",
    " Humidity_Nominal_normal]], columns = list(X_test) )\n",
    "\n",
    "future_data"
   ]
  },
  {
   "cell_type": "code",
   "execution_count": 34,
   "metadata": {
    "ExecuteTime": {
     "end_time": "2020-03-31T14:48:57.772560Z",
     "start_time": "2020-03-31T14:48:57.762560Z"
    }
   },
   "outputs": [
    {
     "name": "stdout",
     "output_type": "stream",
     "text": [
      "[[9.99987692e-01 1.23081646e-05]]\n",
      "[0]\n"
     ]
    }
   ],
   "source": [
    "\n",
    "print(naive_bayes.predict_proba(future_data))\n",
    "print(naive_bayes.predict(future_data))"
   ]
  },
  {
   "cell_type": "code",
   "execution_count": 35,
   "metadata": {
    "ExecuteTime": {
     "end_time": "2020-03-31T14:48:57.781557Z",
     "start_time": "2020-03-31T14:48:57.774560Z"
    }
   },
   "outputs": [
    {
     "name": "stdout",
     "output_type": "stream",
     "text": [
      "There is a 0.001231 percent chance of going on a roadtrip tomorrow.\n"
     ]
    }
   ],
   "source": [
    "prediction = naive_bayes.predict_proba(future_data)\n",
    "print(\"There is a %f percent chance of going on a roadtrip tomorrow.\" % (prediction[0][1] * 100))"
   ]
  },
  {
   "cell_type": "code",
   "execution_count": null,
   "metadata": {},
   "outputs": [],
   "source": []
  }
 ],
 "metadata": {
  "hide_input": false,
  "kernelspec": {
   "display_name": "Python 3",
   "language": "python",
   "name": "python3"
  },
  "language_info": {
   "codemirror_mode": {
    "name": "ipython",
    "version": 3
   },
   "file_extension": ".py",
   "mimetype": "text/x-python",
   "name": "python",
   "nbconvert_exporter": "python",
   "pygments_lexer": "ipython3",
   "version": "3.6.8"
  },
  "toc": {
   "base_numbering": 1,
   "nav_menu": {},
   "number_sections": true,
   "sideBar": true,
   "skip_h1_title": false,
   "title_cell": "Table of Contents",
   "title_sidebar": "Contents",
   "toc_cell": false,
   "toc_position": {},
   "toc_section_display": true,
   "toc_window_display": false
  },
  "varInspector": {
   "cols": {
    "lenName": 16,
    "lenType": 16,
    "lenVar": 40
   },
   "kernels_config": {
    "python": {
     "delete_cmd_postfix": "",
     "delete_cmd_prefix": "del ",
     "library": "var_list.py",
     "varRefreshCmd": "print(var_dic_list())"
    },
    "r": {
     "delete_cmd_postfix": ") ",
     "delete_cmd_prefix": "rm(",
     "library": "var_list.r",
     "varRefreshCmd": "cat(var_dic_list()) "
    }
   },
   "types_to_exclude": [
    "module",
    "function",
    "builtin_function_or_method",
    "instance",
    "_Feature"
   ],
   "window_display": false
  }
 },
 "nbformat": 4,
 "nbformat_minor": 2
}
